{
 "cells": [
  {
   "cell_type": "code",
   "execution_count": 1,
   "metadata": {},
   "outputs": [],
   "source": [
    "%load_ext autoreload\n",
    "%autoreload 2"
   ]
  },
  {
   "cell_type": "code",
   "execution_count": 2,
   "metadata": {},
   "outputs": [
    {
     "name": "stderr",
     "output_type": "stream",
     "text": [
      "/Users/kristiyansakalyan/Documents/uni/nlp-lab/bertopic-document-representations/.venv/lib/python3.11/site-packages/tqdm/auto.py:21: TqdmWarning: IProgress not found. Please update jupyter and ipywidgets. See https://ipywidgets.readthedocs.io/en/stable/user_install.html\n",
      "  from .autonotebook import tqdm as notebook_tqdm\n"
     ]
    },
    {
     "name": "stdout",
     "output_type": "stream",
     "text": [
      "Downloading NLTK packages...\n",
      "Download complete.\n",
      "Key loaded: True\n"
     ]
    },
    {
     "name": "stderr",
     "output_type": "stream",
     "text": [
      "[nltk_data] Downloading package stopwords to\n",
      "[nltk_data]     /Users/kristiyansakalyan/nltk_data...\n",
      "[nltk_data]   Package stopwords is already up-to-date!\n",
      "[nltk_data] Downloading package punkt to\n",
      "[nltk_data]     /Users/kristiyansakalyan/nltk_data...\n",
      "[nltk_data]   Package punkt is already up-to-date!\n",
      "[nltk_data] Downloading package wordnet to\n",
      "[nltk_data]     /Users/kristiyansakalyan/nltk_data...\n",
      "[nltk_data]   Package wordnet is already up-to-date!\n"
     ]
    }
   ],
   "source": [
    "from datasets_dev import load_bbc_news, preprocess_text, extract_relevant_word_vectors\n",
    "from xboc import XBOCModel, ClusteringMethod, LabelingImplementation, LLMModel\n",
    "from dotenv import load_dotenv\n",
    "import numpy as np\n",
    "import os\n",
    "from notebooks.utils import load_gensim_w2v\n",
    "\n",
    "# You need to create a .env file and add the openai api key there like:\n",
    "# OPENAI_API_KEY=<your-key>\n",
    "load_dotenv(\"../\")\n",
    "print(f'Key loaded: {bool(os.environ.get(\"OPENAI_API_KEY\", False))}')"
   ]
  },
  {
   "cell_type": "markdown",
   "metadata": {},
   "source": [
    "# First steps\n",
    "\n",
    "- First we need to load the word2vec embeddings. We use a pretrained word2vec model on wikipedia with 100 dimensions.\n",
    "- Then we need to load the dataset and preprocess it."
   ]
  },
  {
   "cell_type": "code",
   "execution_count": 3,
   "metadata": {},
   "outputs": [],
   "source": [
    "wv_model = load_gensim_w2v(\"../models/enwiki_20180420_100d.txt\")\n",
    "wv_all, idx2word_all = wv_model.vectors, wv_model.index_to_key"
   ]
  },
  {
   "cell_type": "code",
   "execution_count": 4,
   "metadata": {},
   "outputs": [
    {
     "name": "stderr",
     "output_type": "stream",
     "text": [
      "/Users/kristiyansakalyan/Documents/uni/nlp-lab/bertopic-document-representations/.venv/lib/python3.11/site-packages/huggingface_hub/repocard.py:105: UserWarning: Repo card metadata block was not found. Setting CardData to empty.\n",
      "  warnings.warn(\"Repo card metadata block was not found. Setting CardData to empty.\")\n"
     ]
    }
   ],
   "source": [
    "# Let's load the dataset and preprocess it.\n",
    "\n",
    "docs_train, y_train, _, classes = load_bbc_news()\n",
    "docs_test, y_test, _, _ = load_bbc_news(split=\"test\")\n",
    "docs_train = [preprocess_text(doc, tokenized=True) for doc in docs_train]  # type: ignore\n",
    "docs_test = [preprocess_text(doc, tokenized=True) for doc in docs_test]  # type: ignore"
   ]
  },
  {
   "cell_type": "code",
   "execution_count": 5,
   "metadata": {},
   "outputs": [],
   "source": [
    "# We must extract only the relevant word vectors.\n",
    "# No need to cluster all of the 4.5 million words\n",
    "\n",
    "wv_relevant, idx2word_relevant = extract_relevant_word_vectors(\n",
    "    docs_train, docs_test, idx2word_all, wv_all\n",
    ")"
   ]
  },
  {
   "cell_type": "markdown",
   "metadata": {},
   "source": [
    "# Bag of Concept training"
   ]
  },
  {
   "cell_type": "markdown",
   "metadata": {},
   "source": [
    "### Default parameters"
   ]
  },
  {
   "cell_type": "code",
   "execution_count": 7,
   "metadata": {},
   "outputs": [],
   "source": [
    "boc_model = XBOCModel(\n",
    "    docs_train,  # type: ignore\n",
    "    wv_relevant,  # type: ignore\n",
    "    idx2word_relevant,  # type: ignore\n",
    ")\n",
    "boc_matrix, word2concept_list, idx2word_converter = boc_model.fit()"
   ]
  },
  {
   "cell_type": "markdown",
   "metadata": {},
   "source": [
    "### Clustering method flexibility"
   ]
  },
  {
   "cell_type": "code",
   "execution_count": 8,
   "metadata": {},
   "outputs": [],
   "source": [
    "boc_model = XBOCModel(\n",
    "    docs_train,  # type: ignore\n",
    "    wv_relevant,  # type: ignore\n",
    "    idx2word_relevant,  # type: ignore\n",
    "    clustering_method=ClusteringMethod.KMeans\n",
    ")\n",
    "boc_matrix, word2concept_list, idx2word_converter = boc_model.fit()"
   ]
  },
  {
   "cell_type": "markdown",
   "metadata": {},
   "source": [
    "### Automatic Concept Labeling.\n",
    "\n",
    "- Labeling using custom or template LLM pipeline.\n",
    "- Getting the top words associated to each concept."
   ]
  },
  {
   "cell_type": "code",
   "execution_count": 6,
   "metadata": {},
   "outputs": [],
   "source": [
    "from xboc.types import Tokenizer\n",
    "\n",
    "class CustomTokenizer(Tokenizer):\n",
    "    def __call__(self, text: str) -> list[str]:\n",
    "        return preprocess_text(text, tokenized=True) # type: ignore"
   ]
  },
  {
   "cell_type": "code",
   "execution_count": 34,
   "metadata": {},
   "outputs": [],
   "source": [
    "boc_model = XBOCModel(\n",
    "    docs_train,  # type: ignore\n",
    "    wv_relevant,  # type: ignore\n",
    "    idx2word_relevant,  # type: ignore\n",
    "    tokenizer=CustomTokenizer(), # type: ignore\n",
    "    n_concepts=20,\n",
    "    label_impl=LabelingImplementation.TEMPLATE_CHAIN,\n",
    "    llm_model=LLMModel.OPENAI_GPT3_5\n",
    ")\n",
    "boc_matrix, word2concept_list, idx2word_converter = boc_model.fit()"
   ]
  },
  {
   "cell_type": "code",
   "execution_count": 8,
   "metadata": {},
   "outputs": [
    {
     "data": {
      "text/plain": [
       "'Football players'"
      ]
     },
     "execution_count": 8,
     "metadata": {},
     "output_type": "execute_result"
    }
   ],
   "source": [
    "# Let's get the label of concept 0\n",
    "boc_model.get_concept_label(0)"
   ]
  },
  {
   "cell_type": "code",
   "execution_count": 9,
   "metadata": {},
   "outputs": [
    {
     "data": {
      "text/plain": [
       "['strihavka',\n",
       " 'hrbaty',\n",
       " 'lovenkrands',\n",
       " 'gilhaney',\n",
       " 'benhabiles',\n",
       " 'dinked',\n",
       " 'kickable',\n",
       " 'kezman',\n",
       " 'drogba',\n",
       " 'dugarry']"
      ]
     },
     "execution_count": 9,
     "metadata": {},
     "output_type": "execute_result"
    }
   ],
   "source": [
    "# Let's see the top words associated to it now.\n",
    "boc_model.get_top_n_words(10, 0)"
   ]
  },
  {
   "cell_type": "code",
   "execution_count": 10,
   "metadata": {},
   "outputs": [
    {
     "data": {
      "text/plain": [
       "['Football players',\n",
       " 'Names',\n",
       " 'Indie Rock Songs',\n",
       " 'Food ingredients',\n",
       " 'Emotions',\n",
       " 'Italian surnames',\n",
       " 'Urban landscape',\n",
       " 'Adjectives',\n",
       " 'Actions or Events',\n",
       " 'Technology products and services',\n",
       " 'Towns',\n",
       " 'Leadership roles',\n",
       " 'Connective words',\n",
       " 'Medical Terminology',\n",
       " 'Financial Terminology',\n",
       " 'Negative attitudes',\n",
       " 'Actions or movements',\n",
       " 'Telecommunication Companies',\n",
       " 'Legal proceedings',\n",
       " 'Last names']"
      ]
     },
     "execution_count": 10,
     "metadata": {},
     "output_type": "execute_result"
    }
   ],
   "source": [
    "# Let's see all the concepts\n",
    "boc_model.get_concept_label()"
   ]
  },
  {
   "cell_type": "code",
   "execution_count": 7,
   "metadata": {},
   "outputs": [
    {
     "data": {
      "text/html": [
       "<pre style=\"white-space:pre;overflow-x:auto;line-height:normal;font-family:Menlo,'DejaVu Sans Mono',consolas,'Courier New',monospace\"><span style=\"color: #7fbfbf; text-decoration-color: #7fbfbf\">[14:13:50] </span><span style=\"color: #000080; text-decoration-color: #000080\">INFO    </span> <span style=\"color: #008080; text-decoration-color: #008080; font-weight: bold\">1</span>. Cluster the word vectors.                                                       <a href=\"file:///Users/kristiyansakalyan/Documents/uni/nlp-lab/bertopic-document-representations/boc/model.py\" target=\"_blank\"><span style=\"color: #7f7f7f; text-decoration-color: #7f7f7f\">model.py</span></a><span style=\"color: #7f7f7f; text-decoration-color: #7f7f7f\">:</span><a href=\"file:///Users/kristiyansakalyan/Documents/uni/nlp-lab/bertopic-document-representations/boc/model.py#659\" target=\"_blank\"><span style=\"color: #7f7f7f; text-decoration-color: #7f7f7f\">659</span></a>\n",
       "</pre>\n"
      ],
      "text/plain": [
       "\u001b[2;36m[14:13:50]\u001b[0m\u001b[2;36m \u001b[0m\u001b[34mINFO    \u001b[0m \u001b[1;36m1\u001b[0m. Cluster the word vectors.                                                       \u001b]8;id=192387;file:///Users/kristiyansakalyan/Documents/uni/nlp-lab/bertopic-document-representations/boc/model.py\u001b\\\u001b[2mmodel.py\u001b[0m\u001b]8;;\u001b\\\u001b[2m:\u001b[0m\u001b]8;id=523096;file:///Users/kristiyansakalyan/Documents/uni/nlp-lab/bertopic-document-representations/boc/model.py#659\u001b\\\u001b[2m659\u001b[0m\u001b]8;;\u001b\\\n"
      ]
     },
     "metadata": {},
     "output_type": "display_data"
    },
    {
     "name": "stdout",
     "output_type": "stream",
     "text": [
      "initialization_time=0.001246 sec, sparsity=0.949\n",
      "n_iter=1, changed=23624, inertia=12892.808, iter_time=0.707 sec, sparsity=1.0\n",
      "n_iter=2, changed=9204, inertia=9609.309, iter_time=0.696 sec, sparsity=1.0\n",
      "n_iter=3, changed=4719, inertia=9262.221, iter_time=0.679 sec, sparsity=1.0\n",
      "n_iter=4, changed=3110, inertia=9129.092, iter_time=0.694 sec, sparsity=1.0\n",
      "n_iter=5, changed=2166, inertia=9055.867, iter_time=0.698 sec, sparsity=1.0\n",
      "n_iter=6, changed=1478, inertia=9021.182, iter_time=0.696 sec, sparsity=1.0\n",
      "n_iter=7, changed=1146, inertia=9005.414, iter_time=0.680 sec, sparsity=1.0\n",
      "n_iter=8, changed=899, inertia=8995.250, iter_time=0.696 sec, sparsity=1.0\n",
      "n_iter=9, changed=776, inertia=8988.133, iter_time=0.696 sec, sparsity=1.0\n",
      "n_iter=10, changed=686, inertia=8981.989, iter_time=0.691 sec, sparsity=1.0\n",
      "n_iter=11, changed=642, inertia=8975.743, iter_time=0.684 sec, sparsity=1.0\n",
      "n_iter=12, changed=584, inertia=8970.280, iter_time=0.695 sec, sparsity=1.0\n",
      "n_iter=13, changed=552, inertia=8965.416, iter_time=0.695 sec, sparsity=1.0\n",
      "n_iter=14, changed=471, inertia=8960.735, iter_time=0.696 sec, sparsity=1.0\n",
      "n_iter=15, changed=468, inertia=8957.085, iter_time=0.680 sec, sparsity=1.0\n",
      "n_iter=16, changed=481, inertia=8952.543, iter_time=0.693 sec, sparsity=1.0\n",
      "n_iter=17, changed=533, inertia=8947.928, iter_time=0.699 sec, sparsity=1.0\n",
      "n_iter=18, changed=604, inertia=8942.718, iter_time=0.695 sec, sparsity=1.0\n",
      "n_iter=19, changed=614, inertia=8936.993, iter_time=0.679 sec, sparsity=1.0\n",
      "n_iter=20, changed=600, inertia=8931.066, iter_time=0.698 sec, sparsity=1.0\n",
      "n_iter=21, changed=533, inertia=8925.376, iter_time=0.695 sec, sparsity=1.0\n",
      "n_iter=22, changed=483, inertia=8920.775, iter_time=0.694 sec, sparsity=1.0\n",
      "n_iter=23, changed=417, inertia=8916.958, iter_time=0.684 sec, sparsity=1.0\n",
      "n_iter=24, changed=354, inertia=8914.330, iter_time=0.693 sec, sparsity=1.0\n",
      "n_iter=25, changed=315, inertia=8912.411, iter_time=0.695 sec, sparsity=1.0\n",
      "n_iter=26, changed=274, inertia=8910.990, iter_time=0.698 sec, sparsity=1.0\n",
      "n_iter=27, changed=232, inertia=8909.982, iter_time=0.679 sec, sparsity=1.0\n",
      "n_iter=28, changed=245, inertia=8909.026, iter_time=0.713 sec, sparsity=1.0\n",
      "n_iter=29, changed=242, inertia=8907.920, iter_time=0.695 sec, sparsity=1.0\n",
      "n_iter=30, changed=240, inertia=8906.830, iter_time=0.695 sec, sparsity=1.0\n",
      "n_iter=31, changed=225, inertia=8905.743, iter_time=0.696 sec, sparsity=1.0\n",
      "n_iter=32, changed=208, inertia=8904.756, iter_time=0.695 sec, sparsity=1.0\n",
      "n_iter=33, changed=209, inertia=8903.807, iter_time=0.703 sec, sparsity=1.0\n",
      "n_iter=34, changed=184, inertia=8903.099, iter_time=0.711 sec, sparsity=1.0\n",
      "n_iter=35, changed=143, inertia=8902.611, iter_time=0.714 sec, sparsity=1.0\n",
      "n_iter=36, changed=130, inertia=8902.203, iter_time=0.708 sec, sparsity=1.0\n",
      "n_iter=37, changed=114, inertia=8901.776, iter_time=0.715 sec, sparsity=1.0\n",
      "n_iter=38, changed=91, inertia=8901.452, iter_time=0.710 sec, sparsity=1.0\n",
      "n_iter=39, changed=77, inertia=8901.238, iter_time=0.711 sec, sparsity=1.0\n",
      "n_iter=40, changed=70, inertia=8901.041, iter_time=0.709 sec, sparsity=1.0\n",
      "n_iter=41, changed=73, inertia=8900.818, iter_time=0.713 sec, sparsity=1.0\n",
      "n_iter=42, changed=74, inertia=8900.647, iter_time=0.708 sec, sparsity=1.0\n",
      "n_iter=43, changed=52, inertia=8900.519, iter_time=0.713 sec, sparsity=1.0\n",
      "n_iter=44, changed=51, inertia=8900.436, iter_time=0.711 sec, sparsity=1.0\n",
      "n_iter=45, changed=67, inertia=8900.284, iter_time=0.712 sec, sparsity=1.0\n",
      "n_iter=46, changed=75, inertia=8900.114, iter_time=0.710 sec, sparsity=1.0\n",
      "n_iter=47, changed=55, inertia=8899.907, iter_time=0.708 sec, sparsity=1.0\n",
      "n_iter=48, changed=60, inertia=8899.761, iter_time=0.693 sec, sparsity=1.0\n",
      "n_iter=49, changed=57, inertia=8899.631, iter_time=0.697 sec, sparsity=1.0\n",
      "n_iter=50, changed=36, inertia=8899.513, iter_time=0.697 sec, sparsity=1.0\n",
      "n_iter=51, changed=45, inertia=8899.460, iter_time=0.693 sec, sparsity=1.0\n",
      "n_iter=52, changed=40, inertia=8899.404, iter_time=0.699 sec, sparsity=1.0\n",
      "n_iter=53, changed=41, inertia=8899.322, iter_time=0.696 sec, sparsity=1.0\n",
      "n_iter=54, changed=31, inertia=8899.298, iter_time=0.696 sec, sparsity=1.0\n",
      "n_iter=55, changed=27, inertia=8899.257, iter_time=0.695 sec, sparsity=1.0\n",
      "n_iter=56, changed=28, inertia=8899.231, iter_time=0.698 sec, sparsity=1.0\n",
      "n_iter=57, changed=23, inertia=8899.223, iter_time=0.696 sec, sparsity=1.0\n",
      "n_iter=58, changed=24, inertia=8899.219, iter_time=0.694 sec, sparsity=1.0\n",
      "n_iter=59, changed=26, inertia=8899.208, iter_time=0.696 sec, sparsity=1.0\n",
      "n_iter=60, changed=30, inertia=8899.175, iter_time=0.697 sec, sparsity=1.0\n",
      "n_iter=61, changed=28, inertia=8899.148, iter_time=0.695 sec, sparsity=1.0\n",
      "n_iter=62, changed=26, inertia=8899.143, iter_time=0.697 sec, sparsity=1.0\n",
      "n_iter=63, changed=19, inertia=8899.134, iter_time=0.697 sec, sparsity=1.0\n",
      "n_iter=64, changed=15, inertia=8899.119, iter_time=0.695 sec, sparsity=1.0\n",
      "n_iter=65, changed=17, inertia=8899.114, iter_time=0.695 sec, sparsity=1.0\n",
      "n_iter=66, changed=18, inertia=8899.128, iter_time=0.696 sec, sparsity=1.0\n",
      "n_iter=67, changed=18, inertia=8899.117, iter_time=0.695 sec, sparsity=1.0\n",
      "n_iter=68, changed=10, inertia=8899.110, iter_time=0.696 sec, sparsity=1.0\n",
      "n_iter=69, changed=5, inertia=8899.108, iter_time=0.695 sec, sparsity=1.0\n",
      "n_iter=70, changed=4, inertia=8899.111, iter_time=0.695 sec, sparsity=1.0\n",
      "n_iter=71, changed=3, inertia=8899.123, iter_time=0.695 sec, sparsity=1.0\n",
      "n_iter=72, changed=2, inertia=8899.125, iter_time=0.696 sec, sparsity=1.0\n",
      "Early converged.\n"
     ]
    },
    {
     "data": {
      "text/html": [
       "<pre style=\"white-space:pre;overflow-x:auto;line-height:normal;font-family:Menlo,'DejaVu Sans Mono',consolas,'Courier New',monospace\"><span style=\"color: #7fbfbf; text-decoration-color: #7fbfbf\">[14:14:40] </span><span style=\"color: #000080; text-decoration-color: #000080\">INFO    </span> <span style=\"color: #008080; text-decoration-color: #008080; font-weight: bold\">2</span>. Create a bag of words.                                                          <a href=\"file:///Users/kristiyansakalyan/Documents/uni/nlp-lab/bertopic-document-representations/boc/model.py\" target=\"_blank\"><span style=\"color: #7f7f7f; text-decoration-color: #7f7f7f\">model.py</span></a><span style=\"color: #7f7f7f; text-decoration-color: #7f7f7f\">:</span><a href=\"file:///Users/kristiyansakalyan/Documents/uni/nlp-lab/bertopic-document-representations/boc/model.py#659\" target=\"_blank\"><span style=\"color: #7f7f7f; text-decoration-color: #7f7f7f\">659</span></a>\n",
       "</pre>\n"
      ],
      "text/plain": [
       "\u001b[2;36m[14:14:40]\u001b[0m\u001b[2;36m \u001b[0m\u001b[34mINFO    \u001b[0m \u001b[1;36m2\u001b[0m. Create a bag of words.                                                          \u001b]8;id=69118;file:///Users/kristiyansakalyan/Documents/uni/nlp-lab/bertopic-document-representations/boc/model.py\u001b\\\u001b[2mmodel.py\u001b[0m\u001b]8;;\u001b\\\u001b[2m:\u001b[0m\u001b]8;id=560726;file:///Users/kristiyansakalyan/Documents/uni/nlp-lab/bertopic-document-representations/boc/model.py#659\u001b\\\u001b[2m659\u001b[0m\u001b]8;;\u001b\\\n"
      ]
     },
     "metadata": {},
     "output_type": "display_data"
    },
    {
     "data": {
      "text/html": [
       "<pre style=\"white-space:pre;overflow-x:auto;line-height:normal;font-family:Menlo,'DejaVu Sans Mono',consolas,'Courier New',monospace\"><span style=\"color: #7fbfbf; text-decoration-color: #7fbfbf\">           </span><span style=\"color: #000080; text-decoration-color: #000080\">INFO    </span> <span style=\"color: #008080; text-decoration-color: #008080; font-weight: bold\">3</span>. Map words to concepts.                                                          <a href=\"file:///Users/kristiyansakalyan/Documents/uni/nlp-lab/bertopic-document-representations/boc/model.py\" target=\"_blank\"><span style=\"color: #7f7f7f; text-decoration-color: #7f7f7f\">model.py</span></a><span style=\"color: #7f7f7f; text-decoration-color: #7f7f7f\">:</span><a href=\"file:///Users/kristiyansakalyan/Documents/uni/nlp-lab/bertopic-document-representations/boc/model.py#659\" target=\"_blank\"><span style=\"color: #7f7f7f; text-decoration-color: #7f7f7f\">659</span></a>\n",
       "</pre>\n"
      ],
      "text/plain": [
       "\u001b[2;36m          \u001b[0m\u001b[2;36m \u001b[0m\u001b[34mINFO    \u001b[0m \u001b[1;36m3\u001b[0m. Map words to concepts.                                                          \u001b]8;id=831162;file:///Users/kristiyansakalyan/Documents/uni/nlp-lab/bertopic-document-representations/boc/model.py\u001b\\\u001b[2mmodel.py\u001b[0m\u001b]8;;\u001b\\\u001b[2m:\u001b[0m\u001b]8;id=297250;file:///Users/kristiyansakalyan/Documents/uni/nlp-lab/bertopic-document-representations/boc/model.py#659\u001b\\\u001b[2m659\u001b[0m\u001b]8;;\u001b\\\n"
      ]
     },
     "metadata": {},
     "output_type": "display_data"
    },
    {
     "data": {
      "text/html": [
       "<pre style=\"white-space:pre;overflow-x:auto;line-height:normal;font-family:Menlo,'DejaVu Sans Mono',consolas,'Courier New',monospace\"><span style=\"color: #7fbfbf; text-decoration-color: #7fbfbf\">           </span><span style=\"color: #000080; text-decoration-color: #000080\">INFO    </span> <span style=\"color: #008080; text-decoration-color: #008080; font-weight: bold\">4</span>. Compute the CF-IDF                                                              <a href=\"file:///Users/kristiyansakalyan/Documents/uni/nlp-lab/bertopic-document-representations/boc/model.py\" target=\"_blank\"><span style=\"color: #7f7f7f; text-decoration-color: #7f7f7f\">model.py</span></a><span style=\"color: #7f7f7f; text-decoration-color: #7f7f7f\">:</span><a href=\"file:///Users/kristiyansakalyan/Documents/uni/nlp-lab/bertopic-document-representations/boc/model.py#659\" target=\"_blank\"><span style=\"color: #7f7f7f; text-decoration-color: #7f7f7f\">659</span></a>\n",
       "</pre>\n"
      ],
      "text/plain": [
       "\u001b[2;36m          \u001b[0m\u001b[2;36m \u001b[0m\u001b[34mINFO    \u001b[0m \u001b[1;36m4\u001b[0m. Compute the CF-IDF                                                              \u001b]8;id=525452;file:///Users/kristiyansakalyan/Documents/uni/nlp-lab/bertopic-document-representations/boc/model.py\u001b\\\u001b[2mmodel.py\u001b[0m\u001b]8;;\u001b\\\u001b[2m:\u001b[0m\u001b]8;id=188174;file:///Users/kristiyansakalyan/Documents/uni/nlp-lab/bertopic-document-representations/boc/model.py#659\u001b\\\u001b[2m659\u001b[0m\u001b]8;;\u001b\\\n"
      ]
     },
     "metadata": {},
     "output_type": "display_data"
    },
    {
     "data": {
      "text/html": [
       "<pre style=\"white-space:pre;overflow-x:auto;line-height:normal;font-family:Menlo,'DejaVu Sans Mono',consolas,'Courier New',monospace\"><span style=\"color: #7fbfbf; text-decoration-color: #7fbfbf\">           </span><span style=\"color: #000080; text-decoration-color: #000080\">INFO    </span> <span style=\"color: #008080; text-decoration-color: #008080; font-weight: bold\">5</span>. Automatically label the concepts                                                <a href=\"file:///Users/kristiyansakalyan/Documents/uni/nlp-lab/bertopic-document-representations/boc/model.py\" target=\"_blank\"><span style=\"color: #7f7f7f; text-decoration-color: #7f7f7f\">model.py</span></a><span style=\"color: #7f7f7f; text-decoration-color: #7f7f7f\">:</span><a href=\"file:///Users/kristiyansakalyan/Documents/uni/nlp-lab/bertopic-document-representations/boc/model.py#659\" target=\"_blank\"><span style=\"color: #7f7f7f; text-decoration-color: #7f7f7f\">659</span></a>\n",
       "</pre>\n"
      ],
      "text/plain": [
       "\u001b[2;36m          \u001b[0m\u001b[2;36m \u001b[0m\u001b[34mINFO    \u001b[0m \u001b[1;36m5\u001b[0m. Automatically label the concepts                                                \u001b]8;id=658047;file:///Users/kristiyansakalyan/Documents/uni/nlp-lab/bertopic-document-representations/boc/model.py\u001b\\\u001b[2mmodel.py\u001b[0m\u001b]8;;\u001b\\\u001b[2m:\u001b[0m\u001b]8;id=914779;file:///Users/kristiyansakalyan/Documents/uni/nlp-lab/bertopic-document-representations/boc/model.py#659\u001b\\\u001b[2m659\u001b[0m\u001b]8;;\u001b\\\n"
      ]
     },
     "metadata": {},
     "output_type": "display_data"
    },
    {
     "data": {
      "text/html": [
       "<pre style=\"white-space:pre;overflow-x:auto;line-height:normal;font-family:Menlo,'DejaVu Sans Mono',consolas,'Courier New',monospace\"><span style=\"color: #7fbfbf; text-decoration-color: #7fbfbf\">[14:14:41] </span><span style=\"color: #000080; text-decoration-color: #000080\">INFO    </span> Conept label: Football players                                                     <a href=\"file:///Users/kristiyansakalyan/Documents/uni/nlp-lab/bertopic-document-representations/boc/model.py\" target=\"_blank\"><span style=\"color: #7f7f7f; text-decoration-color: #7f7f7f\">model.py</span></a><span style=\"color: #7f7f7f; text-decoration-color: #7f7f7f\">:</span><a href=\"file:///Users/kristiyansakalyan/Documents/uni/nlp-lab/bertopic-document-representations/boc/model.py#659\" target=\"_blank\"><span style=\"color: #7f7f7f; text-decoration-color: #7f7f7f\">659</span></a>\n",
       "<span style=\"color: #7fbfbf; text-decoration-color: #7fbfbf\">           </span>         Keywords: strihavka, hrbaty, lovenkrands, gilhaney, benhabiles, dinked, kickable,  <span style=\"color: #7f7f7f; text-decoration-color: #7f7f7f\">            </span>\n",
       "<span style=\"color: #7fbfbf; text-decoration-color: #7fbfbf\">           </span>         kezman, drogba, dugarry                                                            <span style=\"color: #7f7f7f; text-decoration-color: #7f7f7f\">            </span>\n",
       "</pre>\n"
      ],
      "text/plain": [
       "\u001b[2;36m[14:14:41]\u001b[0m\u001b[2;36m \u001b[0m\u001b[34mINFO    \u001b[0m Conept label: Football players                                                     \u001b]8;id=632043;file:///Users/kristiyansakalyan/Documents/uni/nlp-lab/bertopic-document-representations/boc/model.py\u001b\\\u001b[2mmodel.py\u001b[0m\u001b]8;;\u001b\\\u001b[2m:\u001b[0m\u001b]8;id=725531;file:///Users/kristiyansakalyan/Documents/uni/nlp-lab/bertopic-document-representations/boc/model.py#659\u001b\\\u001b[2m659\u001b[0m\u001b]8;;\u001b\\\n",
       "\u001b[2;36m           \u001b[0m         Keywords: strihavka, hrbaty, lovenkrands, gilhaney, benhabiles, dinked, kickable,  \u001b[2m            \u001b[0m\n",
       "\u001b[2;36m           \u001b[0m         kezman, drogba, dugarry                                                            \u001b[2m            \u001b[0m\n"
      ]
     },
     "metadata": {},
     "output_type": "display_data"
    },
    {
     "data": {
      "text/html": [
       "<pre style=\"white-space:pre;overflow-x:auto;line-height:normal;font-family:Menlo,'DejaVu Sans Mono',consolas,'Courier New',monospace\"><span style=\"color: #7fbfbf; text-decoration-color: #7fbfbf\">[14:15:19] </span><span style=\"color: #000080; text-decoration-color: #000080\">INFO    </span> Conept label: Names                                                                <a href=\"file:///Users/kristiyansakalyan/Documents/uni/nlp-lab/bertopic-document-representations/boc/model.py\" target=\"_blank\"><span style=\"color: #7f7f7f; text-decoration-color: #7f7f7f\">model.py</span></a><span style=\"color: #7f7f7f; text-decoration-color: #7f7f7f\">:</span><a href=\"file:///Users/kristiyansakalyan/Documents/uni/nlp-lab/bertopic-document-representations/boc/model.py#659\" target=\"_blank\"><span style=\"color: #7f7f7f; text-decoration-color: #7f7f7f\">659</span></a>\n",
       "<span style=\"color: #7fbfbf; text-decoration-color: #7fbfbf\">           </span>         Keywords: hussain, abdullatif, mohammad, amin, mohammed, ahmed, mansoor, iqbal,    <span style=\"color: #7f7f7f; text-decoration-color: #7f7f7f\">            </span>\n",
       "<span style=\"color: #7fbfbf; text-decoration-color: #7fbfbf\">           </span>         habib, abdul                                                                       <span style=\"color: #7f7f7f; text-decoration-color: #7f7f7f\">            </span>\n",
       "</pre>\n"
      ],
      "text/plain": [
       "\u001b[2;36m[14:15:19]\u001b[0m\u001b[2;36m \u001b[0m\u001b[34mINFO    \u001b[0m Conept label: Names                                                                \u001b]8;id=387059;file:///Users/kristiyansakalyan/Documents/uni/nlp-lab/bertopic-document-representations/boc/model.py\u001b\\\u001b[2mmodel.py\u001b[0m\u001b]8;;\u001b\\\u001b[2m:\u001b[0m\u001b]8;id=472440;file:///Users/kristiyansakalyan/Documents/uni/nlp-lab/bertopic-document-representations/boc/model.py#659\u001b\\\u001b[2m659\u001b[0m\u001b]8;;\u001b\\\n",
       "\u001b[2;36m           \u001b[0m         Keywords: hussain, abdullatif, mohammad, amin, mohammed, ahmed, mansoor, iqbal,    \u001b[2m            \u001b[0m\n",
       "\u001b[2;36m           \u001b[0m         habib, abdul                                                                       \u001b[2m            \u001b[0m\n"
      ]
     },
     "metadata": {},
     "output_type": "display_data"
    },
    {
     "data": {
      "text/html": [
       "<pre style=\"white-space:pre;overflow-x:auto;line-height:normal;font-family:Menlo,'DejaVu Sans Mono',consolas,'Courier New',monospace\"><span style=\"color: #7fbfbf; text-decoration-color: #7fbfbf\">[14:15:20] </span><span style=\"color: #000080; text-decoration-color: #000080\">INFO    </span> Conept label: Indie Rock Songs                                                     <a href=\"file:///Users/kristiyansakalyan/Documents/uni/nlp-lab/bertopic-document-representations/boc/model.py\" target=\"_blank\"><span style=\"color: #7f7f7f; text-decoration-color: #7f7f7f\">model.py</span></a><span style=\"color: #7f7f7f; text-decoration-color: #7f7f7f\">:</span><a href=\"file:///Users/kristiyansakalyan/Documents/uni/nlp-lab/bertopic-document-representations/boc/model.py#659\" target=\"_blank\"><span style=\"color: #7f7f7f; text-decoration-color: #7f7f7f\">659</span></a>\n",
       "<span style=\"color: #7fbfbf; text-decoration-color: #7fbfbf\">           </span>         Keywords: britneys, crazy, playboyz, daze, foreverman, killamangiro, scream,       <span style=\"color: #7f7f7f; text-decoration-color: #7f7f7f\">            </span>\n",
       "<span style=\"color: #7fbfbf; text-decoration-color: #7fbfbf\">           </span>         jukebox, gotty, kid                                                                <span style=\"color: #7f7f7f; text-decoration-color: #7f7f7f\">            </span>\n",
       "</pre>\n"
      ],
      "text/plain": [
       "\u001b[2;36m[14:15:20]\u001b[0m\u001b[2;36m \u001b[0m\u001b[34mINFO    \u001b[0m Conept label: Indie Rock Songs                                                     \u001b]8;id=215953;file:///Users/kristiyansakalyan/Documents/uni/nlp-lab/bertopic-document-representations/boc/model.py\u001b\\\u001b[2mmodel.py\u001b[0m\u001b]8;;\u001b\\\u001b[2m:\u001b[0m\u001b]8;id=714107;file:///Users/kristiyansakalyan/Documents/uni/nlp-lab/bertopic-document-representations/boc/model.py#659\u001b\\\u001b[2m659\u001b[0m\u001b]8;;\u001b\\\n",
       "\u001b[2;36m           \u001b[0m         Keywords: britneys, crazy, playboyz, daze, foreverman, killamangiro, scream,       \u001b[2m            \u001b[0m\n",
       "\u001b[2;36m           \u001b[0m         jukebox, gotty, kid                                                                \u001b[2m            \u001b[0m\n"
      ]
     },
     "metadata": {},
     "output_type": "display_data"
    },
    {
     "data": {
      "text/html": [
       "<pre style=\"white-space:pre;overflow-x:auto;line-height:normal;font-family:Menlo,'DejaVu Sans Mono',consolas,'Courier New',monospace\"><span style=\"color: #7fbfbf; text-decoration-color: #7fbfbf\">[14:15:22] </span><span style=\"color: #000080; text-decoration-color: #000080\">INFO    </span> Conept label: Food ingredients                                                     <a href=\"file:///Users/kristiyansakalyan/Documents/uni/nlp-lab/bertopic-document-representations/boc/model.py\" target=\"_blank\"><span style=\"color: #7f7f7f; text-decoration-color: #7f7f7f\">model.py</span></a><span style=\"color: #7f7f7f; text-decoration-color: #7f7f7f\">:</span><a href=\"file:///Users/kristiyansakalyan/Documents/uni/nlp-lab/bertopic-document-representations/boc/model.py#659\" target=\"_blank\"><span style=\"color: #7f7f7f; text-decoration-color: #7f7f7f\">659</span></a>\n",
       "<span style=\"color: #7fbfbf; text-decoration-color: #7fbfbf\">           </span>         Keywords: honey, dried, carrot, bean, scragged, flakier, goat, fruit, butter,      <span style=\"color: #7f7f7f; text-decoration-color: #7f7f7f\">            </span>\n",
       "<span style=\"color: #7fbfbf; text-decoration-color: #7fbfbf\">           </span>         rabbit                                                                             <span style=\"color: #7f7f7f; text-decoration-color: #7f7f7f\">            </span>\n",
       "</pre>\n"
      ],
      "text/plain": [
       "\u001b[2;36m[14:15:22]\u001b[0m\u001b[2;36m \u001b[0m\u001b[34mINFO    \u001b[0m Conept label: Food ingredients                                                     \u001b]8;id=389569;file:///Users/kristiyansakalyan/Documents/uni/nlp-lab/bertopic-document-representations/boc/model.py\u001b\\\u001b[2mmodel.py\u001b[0m\u001b]8;;\u001b\\\u001b[2m:\u001b[0m\u001b]8;id=414130;file:///Users/kristiyansakalyan/Documents/uni/nlp-lab/bertopic-document-representations/boc/model.py#659\u001b\\\u001b[2m659\u001b[0m\u001b]8;;\u001b\\\n",
       "\u001b[2;36m           \u001b[0m         Keywords: honey, dried, carrot, bean, scragged, flakier, goat, fruit, butter,      \u001b[2m            \u001b[0m\n",
       "\u001b[2;36m           \u001b[0m         rabbit                                                                             \u001b[2m            \u001b[0m\n"
      ]
     },
     "metadata": {},
     "output_type": "display_data"
    },
    {
     "data": {
      "text/html": [
       "<pre style=\"white-space:pre;overflow-x:auto;line-height:normal;font-family:Menlo,'DejaVu Sans Mono',consolas,'Courier New',monospace\"><span style=\"color: #7fbfbf; text-decoration-color: #7fbfbf\">           </span><span style=\"color: #000080; text-decoration-color: #000080\">INFO    </span> Conept label: Emotions                                                             <a href=\"file:///Users/kristiyansakalyan/Documents/uni/nlp-lab/bertopic-document-representations/boc/model.py\" target=\"_blank\"><span style=\"color: #7f7f7f; text-decoration-color: #7f7f7f\">model.py</span></a><span style=\"color: #7f7f7f; text-decoration-color: #7f7f7f\">:</span><a href=\"file:///Users/kristiyansakalyan/Documents/uni/nlp-lab/bertopic-document-representations/boc/model.py#659\" target=\"_blank\"><span style=\"color: #7f7f7f; text-decoration-color: #7f7f7f\">659</span></a>\n",
       "<span style=\"color: #7fbfbf; text-decoration-color: #7fbfbf\">           </span>         Keywords: believing, terrified, disgusted, telling, pretending, seeing, knowing,   <span style=\"color: #7f7f7f; text-decoration-color: #7f7f7f\">            </span>\n",
       "<span style=\"color: #7fbfbf; text-decoration-color: #7fbfbf\">           </span>         enraged, frightened, horrified                                                     <span style=\"color: #7f7f7f; text-decoration-color: #7f7f7f\">            </span>\n",
       "</pre>\n"
      ],
      "text/plain": [
       "\u001b[2;36m          \u001b[0m\u001b[2;36m \u001b[0m\u001b[34mINFO    \u001b[0m Conept label: Emotions                                                             \u001b]8;id=624993;file:///Users/kristiyansakalyan/Documents/uni/nlp-lab/bertopic-document-representations/boc/model.py\u001b\\\u001b[2mmodel.py\u001b[0m\u001b]8;;\u001b\\\u001b[2m:\u001b[0m\u001b]8;id=227711;file:///Users/kristiyansakalyan/Documents/uni/nlp-lab/bertopic-document-representations/boc/model.py#659\u001b\\\u001b[2m659\u001b[0m\u001b]8;;\u001b\\\n",
       "\u001b[2;36m           \u001b[0m         Keywords: believing, terrified, disgusted, telling, pretending, seeing, knowing,   \u001b[2m            \u001b[0m\n",
       "\u001b[2;36m           \u001b[0m         enraged, frightened, horrified                                                     \u001b[2m            \u001b[0m\n"
      ]
     },
     "metadata": {},
     "output_type": "display_data"
    },
    {
     "data": {
      "text/html": [
       "<pre style=\"white-space:pre;overflow-x:auto;line-height:normal;font-family:Menlo,'DejaVu Sans Mono',consolas,'Courier New',monospace\"><span style=\"color: #7fbfbf; text-decoration-color: #7fbfbf\">[14:15:23] </span><span style=\"color: #000080; text-decoration-color: #000080\">INFO    </span> Conept label: Italian surnames                                                     <a href=\"file:///Users/kristiyansakalyan/Documents/uni/nlp-lab/bertopic-document-representations/boc/model.py\" target=\"_blank\"><span style=\"color: #7f7f7f; text-decoration-color: #7f7f7f\">model.py</span></a><span style=\"color: #7f7f7f; text-decoration-color: #7f7f7f\">:</span><a href=\"file:///Users/kristiyansakalyan/Documents/uni/nlp-lab/bertopic-document-representations/boc/model.py#659\" target=\"_blank\"><span style=\"color: #7f7f7f; text-decoration-color: #7f7f7f\">659</span></a>\n",
       "<span style=\"color: #7fbfbf; text-decoration-color: #7fbfbf\">           </span>         Keywords: valbon, gerolami, mikosz, alberto, rossi, roberto, abensur, mauro,       <span style=\"color: #7f7f7f; text-decoration-color: #7f7f7f\">            </span>\n",
       "<span style=\"color: #7fbfbf; text-decoration-color: #7fbfbf\">           </span>         ancic, claudio                                                                     <span style=\"color: #7f7f7f; text-decoration-color: #7f7f7f\">            </span>\n",
       "</pre>\n"
      ],
      "text/plain": [
       "\u001b[2;36m[14:15:23]\u001b[0m\u001b[2;36m \u001b[0m\u001b[34mINFO    \u001b[0m Conept label: Italian surnames                                                     \u001b]8;id=392680;file:///Users/kristiyansakalyan/Documents/uni/nlp-lab/bertopic-document-representations/boc/model.py\u001b\\\u001b[2mmodel.py\u001b[0m\u001b]8;;\u001b\\\u001b[2m:\u001b[0m\u001b]8;id=214980;file:///Users/kristiyansakalyan/Documents/uni/nlp-lab/bertopic-document-representations/boc/model.py#659\u001b\\\u001b[2m659\u001b[0m\u001b]8;;\u001b\\\n",
       "\u001b[2;36m           \u001b[0m         Keywords: valbon, gerolami, mikosz, alberto, rossi, roberto, abensur, mauro,       \u001b[2m            \u001b[0m\n",
       "\u001b[2;36m           \u001b[0m         ancic, claudio                                                                     \u001b[2m            \u001b[0m\n"
      ]
     },
     "metadata": {},
     "output_type": "display_data"
    },
    {
     "data": {
      "text/html": [
       "<pre style=\"white-space:pre;overflow-x:auto;line-height:normal;font-family:Menlo,'DejaVu Sans Mono',consolas,'Courier New',monospace\"><span style=\"color: #7fbfbf; text-decoration-color: #7fbfbf\">[14:15:24] </span><span style=\"color: #000080; text-decoration-color: #000080\">INFO    </span> Conept label: Urban landscape                                                      <a href=\"file:///Users/kristiyansakalyan/Documents/uni/nlp-lab/bertopic-document-representations/boc/model.py\" target=\"_blank\"><span style=\"color: #7f7f7f; text-decoration-color: #7f7f7f\">model.py</span></a><span style=\"color: #7f7f7f; text-decoration-color: #7f7f7f\">:</span><a href=\"file:///Users/kristiyansakalyan/Documents/uni/nlp-lab/bertopic-document-representations/boc/model.py#659\" target=\"_blank\"><span style=\"color: #7f7f7f; text-decoration-color: #7f7f7f\">659</span></a>\n",
       "<span style=\"color: #7fbfbf; text-decoration-color: #7fbfbf\">           </span>         Keywords: corridor, near, nearby, crossing, area, waterfront, downtown,            <span style=\"color: #7f7f7f; text-decoration-color: #7f7f7f\">            </span>\n",
       "<span style=\"color: #7fbfbf; text-decoration-color: #7fbfbf\">           </span>         overlooking, stretch, ramp                                                         <span style=\"color: #7f7f7f; text-decoration-color: #7f7f7f\">            </span>\n",
       "</pre>\n"
      ],
      "text/plain": [
       "\u001b[2;36m[14:15:24]\u001b[0m\u001b[2;36m \u001b[0m\u001b[34mINFO    \u001b[0m Conept label: Urban landscape                                                      \u001b]8;id=338580;file:///Users/kristiyansakalyan/Documents/uni/nlp-lab/bertopic-document-representations/boc/model.py\u001b\\\u001b[2mmodel.py\u001b[0m\u001b]8;;\u001b\\\u001b[2m:\u001b[0m\u001b]8;id=466977;file:///Users/kristiyansakalyan/Documents/uni/nlp-lab/bertopic-document-representations/boc/model.py#659\u001b\\\u001b[2m659\u001b[0m\u001b]8;;\u001b\\\n",
       "\u001b[2;36m           \u001b[0m         Keywords: corridor, near, nearby, crossing, area, waterfront, downtown,            \u001b[2m            \u001b[0m\n",
       "\u001b[2;36m           \u001b[0m         overlooking, stretch, ramp                                                         \u001b[2m            \u001b[0m\n"
      ]
     },
     "metadata": {},
     "output_type": "display_data"
    },
    {
     "data": {
      "text/html": [
       "<pre style=\"white-space:pre;overflow-x:auto;line-height:normal;font-family:Menlo,'DejaVu Sans Mono',consolas,'Courier New',monospace\"><span style=\"color: #7fbfbf; text-decoration-color: #7fbfbf\">[14:15:25] </span><span style=\"color: #000080; text-decoration-color: #000080\">INFO    </span> Conept label: Adjectives                                                           <a href=\"file:///Users/kristiyansakalyan/Documents/uni/nlp-lab/bertopic-document-representations/boc/model.py\" target=\"_blank\"><span style=\"color: #7f7f7f; text-decoration-color: #7f7f7f\">model.py</span></a><span style=\"color: #7f7f7f; text-decoration-color: #7f7f7f\">:</span><a href=\"file:///Users/kristiyansakalyan/Documents/uni/nlp-lab/bertopic-document-representations/boc/model.py#659\" target=\"_blank\"><span style=\"color: #7f7f7f; text-decoration-color: #7f7f7f\">659</span></a>\n",
       "<span style=\"color: #7fbfbf; text-decoration-color: #7fbfbf\">           </span>         Keywords: pathetic, amusing, unsettling, quirky, laughable, ridiculous, cynical,   <span style=\"color: #7f7f7f; text-decoration-color: #7f7f7f\">            </span>\n",
       "<span style=\"color: #7fbfbf; text-decoration-color: #7fbfbf\">           </span>         offputting, clever, admittedly                                                     <span style=\"color: #7f7f7f; text-decoration-color: #7f7f7f\">            </span>\n",
       "</pre>\n"
      ],
      "text/plain": [
       "\u001b[2;36m[14:15:25]\u001b[0m\u001b[2;36m \u001b[0m\u001b[34mINFO    \u001b[0m Conept label: Adjectives                                                           \u001b]8;id=436101;file:///Users/kristiyansakalyan/Documents/uni/nlp-lab/bertopic-document-representations/boc/model.py\u001b\\\u001b[2mmodel.py\u001b[0m\u001b]8;;\u001b\\\u001b[2m:\u001b[0m\u001b]8;id=739855;file:///Users/kristiyansakalyan/Documents/uni/nlp-lab/bertopic-document-representations/boc/model.py#659\u001b\\\u001b[2m659\u001b[0m\u001b]8;;\u001b\\\n",
       "\u001b[2;36m           \u001b[0m         Keywords: pathetic, amusing, unsettling, quirky, laughable, ridiculous, cynical,   \u001b[2m            \u001b[0m\n",
       "\u001b[2;36m           \u001b[0m         offputting, clever, admittedly                                                     \u001b[2m            \u001b[0m\n"
      ]
     },
     "metadata": {},
     "output_type": "display_data"
    },
    {
     "data": {
      "text/html": [
       "<pre style=\"white-space:pre;overflow-x:auto;line-height:normal;font-family:Menlo,'DejaVu Sans Mono',consolas,'Courier New',monospace\"><span style=\"color: #7fbfbf; text-decoration-color: #7fbfbf\">           </span><span style=\"color: #000080; text-decoration-color: #000080\">INFO    </span> Conept label: Actions or Events                                                    <a href=\"file:///Users/kristiyansakalyan/Documents/uni/nlp-lab/bertopic-document-representations/boc/model.py\" target=\"_blank\"><span style=\"color: #7f7f7f; text-decoration-color: #7f7f7f\">model.py</span></a><span style=\"color: #7f7f7f; text-decoration-color: #7f7f7f\">:</span><a href=\"file:///Users/kristiyansakalyan/Documents/uni/nlp-lab/bertopic-document-representations/boc/model.py#659\" target=\"_blank\"><span style=\"color: #7f7f7f; text-decoration-color: #7f7f7f\">659</span></a>\n",
       "<span style=\"color: #7fbfbf; text-decoration-color: #7fbfbf\">           </span>         Keywords: pushed, brought, overwhelmed, turned, dragged, fell, however, prevented, <span style=\"color: #7f7f7f; text-decoration-color: #7f7f7f\">            </span>\n",
       "<span style=\"color: #7fbfbf; text-decoration-color: #7fbfbf\">           </span>         thwarted, leaving                                                                  <span style=\"color: #7f7f7f; text-decoration-color: #7f7f7f\">            </span>\n",
       "</pre>\n"
      ],
      "text/plain": [
       "\u001b[2;36m          \u001b[0m\u001b[2;36m \u001b[0m\u001b[34mINFO    \u001b[0m Conept label: Actions or Events                                                    \u001b]8;id=202679;file:///Users/kristiyansakalyan/Documents/uni/nlp-lab/bertopic-document-representations/boc/model.py\u001b\\\u001b[2mmodel.py\u001b[0m\u001b]8;;\u001b\\\u001b[2m:\u001b[0m\u001b]8;id=659813;file:///Users/kristiyansakalyan/Documents/uni/nlp-lab/bertopic-document-representations/boc/model.py#659\u001b\\\u001b[2m659\u001b[0m\u001b]8;;\u001b\\\n",
       "\u001b[2;36m           \u001b[0m         Keywords: pushed, brought, overwhelmed, turned, dragged, fell, however, prevented, \u001b[2m            \u001b[0m\n",
       "\u001b[2;36m           \u001b[0m         thwarted, leaving                                                                  \u001b[2m            \u001b[0m\n"
      ]
     },
     "metadata": {},
     "output_type": "display_data"
    },
    {
     "data": {
      "text/html": [
       "<pre style=\"white-space:pre;overflow-x:auto;line-height:normal;font-family:Menlo,'DejaVu Sans Mono',consolas,'Courier New',monospace\"><span style=\"color: #7fbfbf; text-decoration-color: #7fbfbf\">[14:15:26] </span><span style=\"color: #000080; text-decoration-color: #000080\">INFO    </span> Conept label: Technology products and services                                     <a href=\"file:///Users/kristiyansakalyan/Documents/uni/nlp-lab/bertopic-document-representations/boc/model.py\" target=\"_blank\"><span style=\"color: #7f7f7f; text-decoration-color: #7f7f7f\">model.py</span></a><span style=\"color: #7f7f7f; text-decoration-color: #7f7f7f\">:</span><a href=\"file:///Users/kristiyansakalyan/Documents/uni/nlp-lab/bertopic-document-representations/boc/model.py#659\" target=\"_blank\"><span style=\"color: #7f7f7f; text-decoration-color: #7f7f7f\">659</span></a>\n",
       "<span style=\"color: #7fbfbf; text-decoration-color: #7fbfbf\">           </span>         Keywords: tivos, tivotogo, possibilty, hypertag, netmd, thinkvantage, diallers,    <span style=\"color: #7f7f7f; text-decoration-color: #7f7f7f\">            </span>\n",
       "<span style=\"color: #7fbfbf; text-decoration-color: #7fbfbf\">           </span>         software, ipodder, mirapoint                                                       <span style=\"color: #7f7f7f; text-decoration-color: #7f7f7f\">            </span>\n",
       "</pre>\n"
      ],
      "text/plain": [
       "\u001b[2;36m[14:15:26]\u001b[0m\u001b[2;36m \u001b[0m\u001b[34mINFO    \u001b[0m Conept label: Technology products and services                                     \u001b]8;id=556217;file:///Users/kristiyansakalyan/Documents/uni/nlp-lab/bertopic-document-representations/boc/model.py\u001b\\\u001b[2mmodel.py\u001b[0m\u001b]8;;\u001b\\\u001b[2m:\u001b[0m\u001b]8;id=584392;file:///Users/kristiyansakalyan/Documents/uni/nlp-lab/bertopic-document-representations/boc/model.py#659\u001b\\\u001b[2m659\u001b[0m\u001b]8;;\u001b\\\n",
       "\u001b[2;36m           \u001b[0m         Keywords: tivos, tivotogo, possibilty, hypertag, netmd, thinkvantage, diallers,    \u001b[2m            \u001b[0m\n",
       "\u001b[2;36m           \u001b[0m         software, ipodder, mirapoint                                                       \u001b[2m            \u001b[0m\n"
      ]
     },
     "metadata": {},
     "output_type": "display_data"
    },
    {
     "data": {
      "text/html": [
       "<pre style=\"white-space:pre;overflow-x:auto;line-height:normal;font-family:Menlo,'DejaVu Sans Mono',consolas,'Courier New',monospace\"><span style=\"color: #7fbfbf; text-decoration-color: #7fbfbf\">[14:15:27] </span><span style=\"color: #000080; text-decoration-color: #000080\">INFO    </span> Conept label: Towns                                                                <a href=\"file:///Users/kristiyansakalyan/Documents/uni/nlp-lab/bertopic-document-representations/boc/model.py\" target=\"_blank\"><span style=\"color: #7f7f7f; text-decoration-color: #7f7f7f\">model.py</span></a><span style=\"color: #7f7f7f; text-decoration-color: #7f7f7f\">:</span><a href=\"file:///Users/kristiyansakalyan/Documents/uni/nlp-lab/bertopic-document-representations/boc/model.py#659\" target=\"_blank\"><span style=\"color: #7f7f7f; text-decoration-color: #7f7f7f\">659</span></a>\n",
       "<span style=\"color: #7fbfbf; text-decoration-color: #7fbfbf\">           </span>         Keywords: chorley, bootle, stockport, middleton, coventry, sutton, bolton,         <span style=\"color: #7f7f7f; text-decoration-color: #7f7f7f\">            </span>\n",
       "<span style=\"color: #7fbfbf; text-decoration-color: #7fbfbf\">           </span>         crawley, morpeth, shrewsbury                                                       <span style=\"color: #7f7f7f; text-decoration-color: #7f7f7f\">            </span>\n",
       "</pre>\n"
      ],
      "text/plain": [
       "\u001b[2;36m[14:15:27]\u001b[0m\u001b[2;36m \u001b[0m\u001b[34mINFO    \u001b[0m Conept label: Towns                                                                \u001b]8;id=235876;file:///Users/kristiyansakalyan/Documents/uni/nlp-lab/bertopic-document-representations/boc/model.py\u001b\\\u001b[2mmodel.py\u001b[0m\u001b]8;;\u001b\\\u001b[2m:\u001b[0m\u001b]8;id=285501;file:///Users/kristiyansakalyan/Documents/uni/nlp-lab/bertopic-document-representations/boc/model.py#659\u001b\\\u001b[2m659\u001b[0m\u001b]8;;\u001b\\\n",
       "\u001b[2;36m           \u001b[0m         Keywords: chorley, bootle, stockport, middleton, coventry, sutton, bolton,         \u001b[2m            \u001b[0m\n",
       "\u001b[2;36m           \u001b[0m         crawley, morpeth, shrewsbury                                                       \u001b[2m            \u001b[0m\n"
      ]
     },
     "metadata": {},
     "output_type": "display_data"
    },
    {
     "data": {
      "text/html": [
       "<pre style=\"white-space:pre;overflow-x:auto;line-height:normal;font-family:Menlo,'DejaVu Sans Mono',consolas,'Courier New',monospace\"><span style=\"color: #7fbfbf; text-decoration-color: #7fbfbf\">[14:15:28] </span><span style=\"color: #000080; text-decoration-color: #000080\">INFO    </span> Conept label: Leadership roles                                                     <a href=\"file:///Users/kristiyansakalyan/Documents/uni/nlp-lab/bertopic-document-representations/boc/model.py\" target=\"_blank\"><span style=\"color: #7f7f7f; text-decoration-color: #7f7f7f\">model.py</span></a><span style=\"color: #7f7f7f; text-decoration-color: #7f7f7f\">:</span><a href=\"file:///Users/kristiyansakalyan/Documents/uni/nlp-lab/bertopic-document-representations/boc/model.py#659\" target=\"_blank\"><span style=\"color: #7f7f7f; text-decoration-color: #7f7f7f\">659</span></a>\n",
       "<span style=\"color: #7fbfbf; text-decoration-color: #7fbfbf\">           </span>         Keywords: jcwi, adviser, advisor, consultant, chairing, chaired, pitylak,          <span style=\"color: #7f7f7f; text-decoration-color: #7f7f7f\">            </span>\n",
       "<span style=\"color: #7fbfbf; text-decoration-color: #7fbfbf\">           </span>         thefirst, treasurer, secretary                                                     <span style=\"color: #7f7f7f; text-decoration-color: #7f7f7f\">            </span>\n",
       "</pre>\n"
      ],
      "text/plain": [
       "\u001b[2;36m[14:15:28]\u001b[0m\u001b[2;36m \u001b[0m\u001b[34mINFO    \u001b[0m Conept label: Leadership roles                                                     \u001b]8;id=246488;file:///Users/kristiyansakalyan/Documents/uni/nlp-lab/bertopic-document-representations/boc/model.py\u001b\\\u001b[2mmodel.py\u001b[0m\u001b]8;;\u001b\\\u001b[2m:\u001b[0m\u001b]8;id=460815;file:///Users/kristiyansakalyan/Documents/uni/nlp-lab/bertopic-document-representations/boc/model.py#659\u001b\\\u001b[2m659\u001b[0m\u001b]8;;\u001b\\\n",
       "\u001b[2;36m           \u001b[0m         Keywords: jcwi, adviser, advisor, consultant, chairing, chaired, pitylak,          \u001b[2m            \u001b[0m\n",
       "\u001b[2;36m           \u001b[0m         thefirst, treasurer, secretary                                                     \u001b[2m            \u001b[0m\n"
      ]
     },
     "metadata": {},
     "output_type": "display_data"
    },
    {
     "data": {
      "text/html": [
       "<pre style=\"white-space:pre;overflow-x:auto;line-height:normal;font-family:Menlo,'DejaVu Sans Mono',consolas,'Courier New',monospace\"><span style=\"color: #7fbfbf; text-decoration-color: #7fbfbf\">           </span><span style=\"color: #000080; text-decoration-color: #000080\">INFO    </span> Conept label: Connective words                                                     <a href=\"file:///Users/kristiyansakalyan/Documents/uni/nlp-lab/bertopic-document-representations/boc/model.py\" target=\"_blank\"><span style=\"color: #7f7f7f; text-decoration-color: #7f7f7f\">model.py</span></a><span style=\"color: #7f7f7f; text-decoration-color: #7f7f7f\">:</span><a href=\"file:///Users/kristiyansakalyan/Documents/uni/nlp-lab/bertopic-document-representations/boc/model.py#659\" target=\"_blank\"><span style=\"color: #7f7f7f; text-decoration-color: #7f7f7f\">659</span></a>\n",
       "<span style=\"color: #7fbfbf; text-decoration-color: #7fbfbf\">           </span>         Keywords: furthermore, therefore, moreover, onstart, contrast, particular,         <span style=\"color: #7f7f7f; text-decoration-color: #7f7f7f\">            </span>\n",
       "<span style=\"color: #7fbfbf; text-decoration-color: #7fbfbf\">           </span>         example, limiting, use, possible                                                   <span style=\"color: #7f7f7f; text-decoration-color: #7f7f7f\">            </span>\n",
       "</pre>\n"
      ],
      "text/plain": [
       "\u001b[2;36m          \u001b[0m\u001b[2;36m \u001b[0m\u001b[34mINFO    \u001b[0m Conept label: Connective words                                                     \u001b]8;id=421820;file:///Users/kristiyansakalyan/Documents/uni/nlp-lab/bertopic-document-representations/boc/model.py\u001b\\\u001b[2mmodel.py\u001b[0m\u001b]8;;\u001b\\\u001b[2m:\u001b[0m\u001b]8;id=876650;file:///Users/kristiyansakalyan/Documents/uni/nlp-lab/bertopic-document-representations/boc/model.py#659\u001b\\\u001b[2m659\u001b[0m\u001b]8;;\u001b\\\n",
       "\u001b[2;36m           \u001b[0m         Keywords: furthermore, therefore, moreover, onstart, contrast, particular,         \u001b[2m            \u001b[0m\n",
       "\u001b[2;36m           \u001b[0m         example, limiting, use, possible                                                   \u001b[2m            \u001b[0m\n"
      ]
     },
     "metadata": {},
     "output_type": "display_data"
    },
    {
     "data": {
      "text/html": [
       "<pre style=\"white-space:pre;overflow-x:auto;line-height:normal;font-family:Menlo,'DejaVu Sans Mono',consolas,'Courier New',monospace\"><span style=\"color: #7fbfbf; text-decoration-color: #7fbfbf\">[14:15:30] </span><span style=\"color: #000080; text-decoration-color: #000080\">INFO    </span> Conept label: Medical Terminology                                                  <a href=\"file:///Users/kristiyansakalyan/Documents/uni/nlp-lab/bertopic-document-representations/boc/model.py\" target=\"_blank\"><span style=\"color: #7f7f7f; text-decoration-color: #7f7f7f\">model.py</span></a><span style=\"color: #7f7f7f; text-decoration-color: #7f7f7f\">:</span><a href=\"file:///Users/kristiyansakalyan/Documents/uni/nlp-lab/bertopic-document-representations/boc/model.py#659\" target=\"_blank\"><span style=\"color: #7f7f7f; text-decoration-color: #7f7f7f\">659</span></a>\n",
       "<span style=\"color: #7fbfbf; text-decoration-color: #7fbfbf\">           </span>         Keywords: desmoteplase, chronic, infection, dysfunction, tissue, symptomatic,      <span style=\"color: #7f7f7f; text-decoration-color: #7f7f7f\">            </span>\n",
       "<span style=\"color: #7fbfbf; text-decoration-color: #7fbfbf\">           </span>         abnormal, clotting, hypertension, norvasc                                          <span style=\"color: #7f7f7f; text-decoration-color: #7f7f7f\">            </span>\n",
       "</pre>\n"
      ],
      "text/plain": [
       "\u001b[2;36m[14:15:30]\u001b[0m\u001b[2;36m \u001b[0m\u001b[34mINFO    \u001b[0m Conept label: Medical Terminology                                                  \u001b]8;id=563275;file:///Users/kristiyansakalyan/Documents/uni/nlp-lab/bertopic-document-representations/boc/model.py\u001b\\\u001b[2mmodel.py\u001b[0m\u001b]8;;\u001b\\\u001b[2m:\u001b[0m\u001b]8;id=807908;file:///Users/kristiyansakalyan/Documents/uni/nlp-lab/bertopic-document-representations/boc/model.py#659\u001b\\\u001b[2m659\u001b[0m\u001b]8;;\u001b\\\n",
       "\u001b[2;36m           \u001b[0m         Keywords: desmoteplase, chronic, infection, dysfunction, tissue, symptomatic,      \u001b[2m            \u001b[0m\n",
       "\u001b[2;36m           \u001b[0m         abnormal, clotting, hypertension, norvasc                                          \u001b[2m            \u001b[0m\n"
      ]
     },
     "metadata": {},
     "output_type": "display_data"
    },
    {
     "data": {
      "text/html": [
       "<pre style=\"white-space:pre;overflow-x:auto;line-height:normal;font-family:Menlo,'DejaVu Sans Mono',consolas,'Courier New',monospace\"><span style=\"color: #7fbfbf; text-decoration-color: #7fbfbf\">           </span><span style=\"color: #000080; text-decoration-color: #000080\">INFO    </span> Conept label: Financial Terminology                                                <a href=\"file:///Users/kristiyansakalyan/Documents/uni/nlp-lab/bertopic-document-representations/boc/model.py\" target=\"_blank\"><span style=\"color: #7f7f7f; text-decoration-color: #7f7f7f\">model.py</span></a><span style=\"color: #7f7f7f; text-decoration-color: #7f7f7f\">:</span><a href=\"file:///Users/kristiyansakalyan/Documents/uni/nlp-lab/bertopic-document-representations/boc/model.py#659\" target=\"_blank\"><span style=\"color: #7f7f7f; text-decoration-color: #7f7f7f\">659</span></a>\n",
       "<span style=\"color: #7fbfbf; text-decoration-color: #7fbfbf\">           </span>         Keywords: payment, unblighted, repayment, underwriting, financing, depreciation,   <span style=\"color: #7f7f7f; text-decoration-color: #7f7f7f\">            </span>\n",
       "<span style=\"color: #7fbfbf; text-decoration-color: #7fbfbf\">           </span>         debt, investment, dividend, refund                                                 <span style=\"color: #7f7f7f; text-decoration-color: #7f7f7f\">            </span>\n",
       "</pre>\n"
      ],
      "text/plain": [
       "\u001b[2;36m          \u001b[0m\u001b[2;36m \u001b[0m\u001b[34mINFO    \u001b[0m Conept label: Financial Terminology                                                \u001b]8;id=922064;file:///Users/kristiyansakalyan/Documents/uni/nlp-lab/bertopic-document-representations/boc/model.py\u001b\\\u001b[2mmodel.py\u001b[0m\u001b]8;;\u001b\\\u001b[2m:\u001b[0m\u001b]8;id=417555;file:///Users/kristiyansakalyan/Documents/uni/nlp-lab/bertopic-document-representations/boc/model.py#659\u001b\\\u001b[2m659\u001b[0m\u001b]8;;\u001b\\\n",
       "\u001b[2;36m           \u001b[0m         Keywords: payment, unblighted, repayment, underwriting, financing, depreciation,   \u001b[2m            \u001b[0m\n",
       "\u001b[2;36m           \u001b[0m         debt, investment, dividend, refund                                                 \u001b[2m            \u001b[0m\n"
      ]
     },
     "metadata": {},
     "output_type": "display_data"
    },
    {
     "data": {
      "text/html": [
       "<pre style=\"white-space:pre;overflow-x:auto;line-height:normal;font-family:Menlo,'DejaVu Sans Mono',consolas,'Courier New',monospace\"><span style=\"color: #7fbfbf; text-decoration-color: #7fbfbf\">[14:15:31] </span><span style=\"color: #000080; text-decoration-color: #000080\">INFO    </span> Conept label: Negative attitudes                                                   <a href=\"file:///Users/kristiyansakalyan/Documents/uni/nlp-lab/bertopic-document-representations/boc/model.py\" target=\"_blank\"><span style=\"color: #7f7f7f; text-decoration-color: #7f7f7f\">model.py</span></a><span style=\"color: #7f7f7f; text-decoration-color: #7f7f7f\">:</span><a href=\"file:///Users/kristiyansakalyan/Documents/uni/nlp-lab/bertopic-document-representations/boc/model.py#659\" target=\"_blank\"><span style=\"color: #7f7f7f; text-decoration-color: #7f7f7f\">659</span></a>\n",
       "<span style=\"color: #7fbfbf; text-decoration-color: #7fbfbf\">           </span>         Keywords: cynicism, trivialises, pessimism, complacency, stressing, irony,         <span style=\"color: #7f7f7f; text-decoration-color: #7f7f7f\">            </span>\n",
       "<span style=\"color: #7fbfbf; text-decoration-color: #7fbfbf\">           </span>         ignorance, preoccupation, individuality, morality                                  <span style=\"color: #7f7f7f; text-decoration-color: #7f7f7f\">            </span>\n",
       "</pre>\n"
      ],
      "text/plain": [
       "\u001b[2;36m[14:15:31]\u001b[0m\u001b[2;36m \u001b[0m\u001b[34mINFO    \u001b[0m Conept label: Negative attitudes                                                   \u001b]8;id=335565;file:///Users/kristiyansakalyan/Documents/uni/nlp-lab/bertopic-document-representations/boc/model.py\u001b\\\u001b[2mmodel.py\u001b[0m\u001b]8;;\u001b\\\u001b[2m:\u001b[0m\u001b]8;id=577551;file:///Users/kristiyansakalyan/Documents/uni/nlp-lab/bertopic-document-representations/boc/model.py#659\u001b\\\u001b[2m659\u001b[0m\u001b]8;;\u001b\\\n",
       "\u001b[2;36m           \u001b[0m         Keywords: cynicism, trivialises, pessimism, complacency, stressing, irony,         \u001b[2m            \u001b[0m\n",
       "\u001b[2;36m           \u001b[0m         ignorance, preoccupation, individuality, morality                                  \u001b[2m            \u001b[0m\n"
      ]
     },
     "metadata": {},
     "output_type": "display_data"
    },
    {
     "data": {
      "text/html": [
       "<pre style=\"white-space:pre;overflow-x:auto;line-height:normal;font-family:Menlo,'DejaVu Sans Mono',consolas,'Courier New',monospace\"><span style=\"color: #7fbfbf; text-decoration-color: #7fbfbf\">[14:15:32] </span><span style=\"color: #000080; text-decoration-color: #000080\">INFO    </span> Conept label: Actions or movements                                                 <a href=\"file:///Users/kristiyansakalyan/Documents/uni/nlp-lab/bertopic-document-representations/boc/model.py\" target=\"_blank\"><span style=\"color: #7f7f7f; text-decoration-color: #7f7f7f\">model.py</span></a><span style=\"color: #7f7f7f; text-decoration-color: #7f7f7f\">:</span><a href=\"file:///Users/kristiyansakalyan/Documents/uni/nlp-lab/bertopic-document-representations/boc/model.py#659\" target=\"_blank\"><span style=\"color: #7f7f7f; text-decoration-color: #7f7f7f\">659</span></a>\n",
       "<span style=\"color: #7fbfbf; text-decoration-color: #7fbfbf\">           </span>         Keywords: overbalancing, sticking, squeezing, accomodate, pulling, sliding, slung, <span style=\"color: #7f7f7f; text-decoration-color: #7f7f7f\">            </span>\n",
       "<span style=\"color: #7fbfbf; text-decoration-color: #7fbfbf\">           </span>         nose, stick, ripping                                                               <span style=\"color: #7f7f7f; text-decoration-color: #7f7f7f\">            </span>\n",
       "</pre>\n"
      ],
      "text/plain": [
       "\u001b[2;36m[14:15:32]\u001b[0m\u001b[2;36m \u001b[0m\u001b[34mINFO    \u001b[0m Conept label: Actions or movements                                                 \u001b]8;id=658872;file:///Users/kristiyansakalyan/Documents/uni/nlp-lab/bertopic-document-representations/boc/model.py\u001b\\\u001b[2mmodel.py\u001b[0m\u001b]8;;\u001b\\\u001b[2m:\u001b[0m\u001b]8;id=824452;file:///Users/kristiyansakalyan/Documents/uni/nlp-lab/bertopic-document-representations/boc/model.py#659\u001b\\\u001b[2m659\u001b[0m\u001b]8;;\u001b\\\n",
       "\u001b[2;36m           \u001b[0m         Keywords: overbalancing, sticking, squeezing, accomodate, pulling, sliding, slung, \u001b[2m            \u001b[0m\n",
       "\u001b[2;36m           \u001b[0m         nose, stick, ripping                                                               \u001b[2m            \u001b[0m\n"
      ]
     },
     "metadata": {},
     "output_type": "display_data"
    },
    {
     "data": {
      "text/html": [
       "<pre style=\"white-space:pre;overflow-x:auto;line-height:normal;font-family:Menlo,'DejaVu Sans Mono',consolas,'Courier New',monospace\"><span style=\"color: #7fbfbf; text-decoration-color: #7fbfbf\">           </span><span style=\"color: #000080; text-decoration-color: #000080\">INFO    </span> Conept label: Telecommunication Companies                                          <a href=\"file:///Users/kristiyansakalyan/Documents/uni/nlp-lab/bertopic-document-representations/boc/model.py\" target=\"_blank\"><span style=\"color: #7f7f7f; text-decoration-color: #7f7f7f\">model.py</span></a><span style=\"color: #7f7f7f; text-decoration-color: #7f7f7f\">:</span><a href=\"file:///Users/kristiyansakalyan/Documents/uni/nlp-lab/bertopic-document-representations/boc/model.py#659\" target=\"_blank\"><span style=\"color: #7f7f7f; text-decoration-color: #7f7f7f\">659</span></a>\n",
       "<span style=\"color: #7fbfbf; text-decoration-color: #7fbfbf\">           </span>         Keywords: musiwave, easymobile, onetel, broadreach, alcobev, datamonitor, mtfg,    <span style=\"color: #7f7f7f; text-decoration-color: #7f7f7f\">            </span>\n",
       "<span style=\"color: #7fbfbf; text-decoration-color: #7fbfbf\">           </span>         pagesjaunes, ofex, mblox                                                           <span style=\"color: #7f7f7f; text-decoration-color: #7f7f7f\">            </span>\n",
       "</pre>\n"
      ],
      "text/plain": [
       "\u001b[2;36m          \u001b[0m\u001b[2;36m \u001b[0m\u001b[34mINFO    \u001b[0m Conept label: Telecommunication Companies                                          \u001b]8;id=457960;file:///Users/kristiyansakalyan/Documents/uni/nlp-lab/bertopic-document-representations/boc/model.py\u001b\\\u001b[2mmodel.py\u001b[0m\u001b]8;;\u001b\\\u001b[2m:\u001b[0m\u001b]8;id=636141;file:///Users/kristiyansakalyan/Documents/uni/nlp-lab/bertopic-document-representations/boc/model.py#659\u001b\\\u001b[2m659\u001b[0m\u001b]8;;\u001b\\\n",
       "\u001b[2;36m           \u001b[0m         Keywords: musiwave, easymobile, onetel, broadreach, alcobev, datamonitor, mtfg,    \u001b[2m            \u001b[0m\n",
       "\u001b[2;36m           \u001b[0m         pagesjaunes, ofex, mblox                                                           \u001b[2m            \u001b[0m\n"
      ]
     },
     "metadata": {},
     "output_type": "display_data"
    },
    {
     "data": {
      "text/html": [
       "<pre style=\"white-space:pre;overflow-x:auto;line-height:normal;font-family:Menlo,'DejaVu Sans Mono',consolas,'Courier New',monospace\"><span style=\"color: #7fbfbf; text-decoration-color: #7fbfbf\">[14:15:33] </span><span style=\"color: #000080; text-decoration-color: #000080\">INFO    </span> Conept label: Legal proceedings                                                    <a href=\"file:///Users/kristiyansakalyan/Documents/uni/nlp-lab/bertopic-document-representations/boc/model.py\" target=\"_blank\"><span style=\"color: #7f7f7f; text-decoration-color: #7f7f7f\">model.py</span></a><span style=\"color: #7f7f7f; text-decoration-color: #7f7f7f\">:</span><a href=\"file:///Users/kristiyansakalyan/Documents/uni/nlp-lab/bertopic-document-representations/boc/model.py#659\" target=\"_blank\"><span style=\"color: #7f7f7f; text-decoration-color: #7f7f7f\">659</span></a>\n",
       "<span style=\"color: #7fbfbf; text-decoration-color: #7fbfbf\">           </span>         Keywords: objecting, denying, arguing, discriminatorily, legality, prosecution,    <span style=\"color: #7f7f7f; text-decoration-color: #7f7f7f\">            </span>\n",
       "<span style=\"color: #7fbfbf; text-decoration-color: #7fbfbf\">           </span>         declaring, ramrodded, alleged, justified                                           <span style=\"color: #7f7f7f; text-decoration-color: #7f7f7f\">            </span>\n",
       "</pre>\n"
      ],
      "text/plain": [
       "\u001b[2;36m[14:15:33]\u001b[0m\u001b[2;36m \u001b[0m\u001b[34mINFO    \u001b[0m Conept label: Legal proceedings                                                    \u001b]8;id=30435;file:///Users/kristiyansakalyan/Documents/uni/nlp-lab/bertopic-document-representations/boc/model.py\u001b\\\u001b[2mmodel.py\u001b[0m\u001b]8;;\u001b\\\u001b[2m:\u001b[0m\u001b]8;id=702043;file:///Users/kristiyansakalyan/Documents/uni/nlp-lab/bertopic-document-representations/boc/model.py#659\u001b\\\u001b[2m659\u001b[0m\u001b]8;;\u001b\\\n",
       "\u001b[2;36m           \u001b[0m         Keywords: objecting, denying, arguing, discriminatorily, legality, prosecution,    \u001b[2m            \u001b[0m\n",
       "\u001b[2;36m           \u001b[0m         declaring, ramrodded, alleged, justified                                           \u001b[2m            \u001b[0m\n"
      ]
     },
     "metadata": {},
     "output_type": "display_data"
    },
    {
     "data": {
      "text/html": [
       "<pre style=\"white-space:pre;overflow-x:auto;line-height:normal;font-family:Menlo,'DejaVu Sans Mono',consolas,'Courier New',monospace\"><span style=\"color: #7fbfbf; text-decoration-color: #7fbfbf\">[14:15:34] </span><span style=\"color: #000080; text-decoration-color: #000080\">INFO    </span> Conept label: Last names                                                           <a href=\"file:///Users/kristiyansakalyan/Documents/uni/nlp-lab/bertopic-document-representations/boc/model.py\" target=\"_blank\"><span style=\"color: #7f7f7f; text-decoration-color: #7f7f7f\">model.py</span></a><span style=\"color: #7f7f7f; text-decoration-color: #7f7f7f\">:</span><a href=\"file:///Users/kristiyansakalyan/Documents/uni/nlp-lab/bertopic-document-representations/boc/model.py#659\" target=\"_blank\"><span style=\"color: #7f7f7f; text-decoration-color: #7f7f7f\">659</span></a>\n",
       "<span style=\"color: #7fbfbf; text-decoration-color: #7fbfbf\">           </span>         Keywords: bennett, miller, dunn, harris, taylor, baker, mitchell, lawson, smith,   <span style=\"color: #7f7f7f; text-decoration-color: #7f7f7f\">            </span>\n",
       "<span style=\"color: #7fbfbf; text-decoration-color: #7fbfbf\">           </span>         moore                                                                              <span style=\"color: #7f7f7f; text-decoration-color: #7f7f7f\">            </span>\n",
       "</pre>\n"
      ],
      "text/plain": [
       "\u001b[2;36m[14:15:34]\u001b[0m\u001b[2;36m \u001b[0m\u001b[34mINFO    \u001b[0m Conept label: Last names                                                           \u001b]8;id=879971;file:///Users/kristiyansakalyan/Documents/uni/nlp-lab/bertopic-document-representations/boc/model.py\u001b\\\u001b[2mmodel.py\u001b[0m\u001b]8;;\u001b\\\u001b[2m:\u001b[0m\u001b]8;id=825042;file:///Users/kristiyansakalyan/Documents/uni/nlp-lab/bertopic-document-representations/boc/model.py#659\u001b\\\u001b[2m659\u001b[0m\u001b]8;;\u001b\\\n",
       "\u001b[2;36m           \u001b[0m         Keywords: bennett, miller, dunn, harris, taylor, baker, mitchell, lawson, smith,   \u001b[2m            \u001b[0m\n",
       "\u001b[2;36m           \u001b[0m         moore                                                                              \u001b[2m            \u001b[0m\n"
      ]
     },
     "metadata": {},
     "output_type": "display_data"
    }
   ],
   "source": [
    "# Now if you have a custom chain you want to use.\n",
    "# You can define it and provide as:\n",
    "from xboc.prompts import get_labeling_config\n",
    "\n",
    "prompt, model = get_labeling_config(LLMModel.OPENAI_GPT3_5)\n",
    "chain = prompt | model\n",
    "\n",
    "boc_model = XBOCModel(\n",
    "    docs_train,  # type: ignore\n",
    "    wv_relevant,  # type: ignore\n",
    "    idx2word_relevant,  # type: ignore\n",
    "    tokenizer=CustomTokenizer(), # type: ignore\n",
    "    label_impl=LabelingImplementation.CUSTOM_CHAIN,\n",
    "    custom_chain=chain,\n",
    "    n_concepts=20,\n",
    "    verbose=True\n",
    ")\n",
    "boc_matrix, word2concept_list, idx2word_converter = boc_model.fit()"
   ]
  },
  {
   "cell_type": "code",
   "execution_count": 11,
   "metadata": {},
   "outputs": [
    {
     "data": {
      "text/plain": [
       "['Football players',\n",
       " 'Names',\n",
       " 'Indie Rock Songs',\n",
       " 'Food ingredients',\n",
       " 'Emotions',\n",
       " 'Italian surnames',\n",
       " 'Urban landscape',\n",
       " 'Adjectives',\n",
       " 'Actions or Events',\n",
       " 'Technology products and services',\n",
       " 'Towns',\n",
       " 'Leadership roles',\n",
       " 'Connective words',\n",
       " 'Medical Terminology',\n",
       " 'Financial Terminology',\n",
       " 'Negative attitudes',\n",
       " 'Actions or movements',\n",
       " 'Telecommunication Companies',\n",
       " 'Legal proceedings',\n",
       " 'Last names']"
      ]
     },
     "execution_count": 11,
     "metadata": {},
     "output_type": "execute_result"
    }
   ],
   "source": [
    "boc_model.get_concept_label()"
   ]
  },
  {
   "cell_type": "markdown",
   "metadata": {},
   "source": [
    "### Save and Load model"
   ]
  },
  {
   "cell_type": "code",
   "execution_count": 14,
   "metadata": {},
   "outputs": [
    {
     "data": {
      "text/html": [
       "<pre style=\"white-space:pre;overflow-x:auto;line-height:normal;font-family:Menlo,'DejaVu Sans Mono',consolas,'Courier New',monospace\"><span style=\"color: #7fbfbf; text-decoration-color: #7fbfbf\">[14:27:23] </span><span style=\"color: #000080; text-decoration-color: #000080\">INFO    </span> Successfully saved the model at: ..<span style=\"color: #800080; text-decoration-color: #800080\">/models/</span><span style=\"color: #ff00ff; text-decoration-color: #ff00ff\">BoC_c20.pickle</span>                          <a href=\"file:///Users/kristiyansakalyan/Documents/uni/nlp-lab/bertopic-document-representations/boc/model.py\" target=\"_blank\"><span style=\"color: #7f7f7f; text-decoration-color: #7f7f7f\">model.py</span></a><span style=\"color: #7f7f7f; text-decoration-color: #7f7f7f\">:</span><a href=\"file:///Users/kristiyansakalyan/Documents/uni/nlp-lab/bertopic-document-representations/boc/model.py#665\" target=\"_blank\"><span style=\"color: #7f7f7f; text-decoration-color: #7f7f7f\">665</span></a>\n",
       "</pre>\n"
      ],
      "text/plain": [
       "\u001b[2;36m[14:27:23]\u001b[0m\u001b[2;36m \u001b[0m\u001b[34mINFO    \u001b[0m Successfully saved the model at: ..\u001b[35m/models/\u001b[0m\u001b[95mBoC_c20.pickle\u001b[0m                          \u001b]8;id=656312;file:///Users/kristiyansakalyan/Documents/uni/nlp-lab/bertopic-document-representations/boc/model.py\u001b\\\u001b[2mmodel.py\u001b[0m\u001b]8;;\u001b\\\u001b[2m:\u001b[0m\u001b]8;id=973745;file:///Users/kristiyansakalyan/Documents/uni/nlp-lab/bertopic-document-representations/boc/model.py#665\u001b\\\u001b[2m665\u001b[0m\u001b]8;;\u001b\\\n"
      ]
     },
     "metadata": {},
     "output_type": "display_data"
    }
   ],
   "source": [
    "boc_model.save(\"../models\")"
   ]
  },
  {
   "cell_type": "code",
   "execution_count": 15,
   "metadata": {},
   "outputs": [],
   "source": [
    "boc_model = XBOCModel.load(\"../models/BoC_c20.pickle\")"
   ]
  },
  {
   "cell_type": "code",
   "execution_count": 13,
   "metadata": {},
   "outputs": [
    {
     "data": {
      "text/plain": [
       "['Emotions',\n",
       " 'Transportation vehicles',\n",
       " 'Football players',\n",
       " 'Company names',\n",
       " 'Technology/software terms',\n",
       " 'Existentialism',\n",
       " 'Law enforcement actions',\n",
       " 'Actions with objects',\n",
       " 'Music genres',\n",
       " 'Professions',\n",
       " 'Adjectives',\n",
       " 'Names',\n",
       " 'English vocabulary',\n",
       " 'Location or vicinity',\n",
       " 'Horror',\n",
       " 'Last names',\n",
       " 'Medical conditions',\n",
       " 'Names',\n",
       " 'Language connectors',\n",
       " 'Towns']"
      ]
     },
     "execution_count": 13,
     "metadata": {},
     "output_type": "execute_result"
    }
   ],
   "source": [
    "boc_model.concept_labels"
   ]
  },
  {
   "cell_type": "markdown",
   "metadata": {},
   "source": [
    "### Encode new documents."
   ]
  },
  {
   "cell_type": "code",
   "execution_count": 18,
   "metadata": {},
   "outputs": [
    {
     "data": {
      "text/plain": [
       "{'megane': 0,\n",
       " 'reserved': 1,\n",
       " 'illustration': 2,\n",
       " 'stunned': 3,\n",
       " 'unfreeze': 4,\n",
       " 'theme': 5,\n",
       " 'awol': 6,\n",
       " 'kleinberg': 7,\n",
       " 'trebled': 8,\n",
       " 'flight': 9,\n",
       " 'black': 10,\n",
       " 'upscale': 11,\n",
       " 'rebidding': 12,\n",
       " 'satisfactorily': 13,\n",
       " 'velimir': 14,\n",
       " 'verify': 15,\n",
       " 'sender': 16,\n",
       " 'dealership': 17,\n",
       " 'thinker': 18,\n",
       " 'santry': 19,\n",
       " 'aurora': 20,\n",
       " 'retrospective': 21,\n",
       " 'oleg': 22,\n",
       " 'communication': 23,\n",
       " 'slotting': 24,\n",
       " 'nasa': 25,\n",
       " 'horde': 26,\n",
       " 'buscemi': 27,\n",
       " 'prompt': 28,\n",
       " 'permanently': 29,\n",
       " 'tape': 30,\n",
       " 'gomarsall': 31,\n",
       " 'migrant': 32,\n",
       " 'dutronc': 33,\n",
       " 'jrfu': 34,\n",
       " 'withstand': 35,\n",
       " 'zone': 36,\n",
       " 'kilgore': 37,\n",
       " 'forestier': 38,\n",
       " 'contreras': 39,\n",
       " 'dispossesed': 40,\n",
       " 'scabbers': 41,\n",
       " 'pompous': 42,\n",
       " 'verbal': 43,\n",
       " 'colonel': 44,\n",
       " 'irreversible': 45,\n",
       " 'preliminary': 46,\n",
       " 'witness': 47,\n",
       " 'jeroen': 48,\n",
       " 'tina': 49,\n",
       " 'rendition': 50,\n",
       " 'healey': 51,\n",
       " 'venturas': 52,\n",
       " 'janus': 53,\n",
       " 'hereditary': 54,\n",
       " 'rebirth': 55,\n",
       " 'diet': 56,\n",
       " 'olof': 57,\n",
       " 'splash': 58,\n",
       " 'segas': 59,\n",
       " 'profited': 60,\n",
       " 'cute': 61,\n",
       " 'meyer': 62,\n",
       " 'babacan': 63,\n",
       " 'feedback': 64,\n",
       " 'marvelling': 65,\n",
       " 'soham': 66,\n",
       " 'convince': 67,\n",
       " 'decent': 68,\n",
       " 'reacted': 69,\n",
       " 'molly': 70,\n",
       " 'morin': 71,\n",
       " 'mikko': 72,\n",
       " 'analyzing': 73,\n",
       " 'conversational': 74,\n",
       " 'manchester': 75,\n",
       " 'impressing': 76,\n",
       " 'abu': 77,\n",
       " 'institution': 78,\n",
       " 'oreo': 79,\n",
       " 'kk': 80,\n",
       " 'solving': 81,\n",
       " 'glaxosmithkline': 82,\n",
       " 'pointing': 83,\n",
       " 'tempt': 84,\n",
       " 'derbyshire': 85,\n",
       " 'grandma': 86,\n",
       " 'angering': 87,\n",
       " 'economy': 88,\n",
       " 'neighbourhood': 89,\n",
       " 'glitterati': 90,\n",
       " 'entice': 91,\n",
       " 'explores': 92,\n",
       " 'handel': 93,\n",
       " 'yeun': 94,\n",
       " 'guadalcanal': 95,\n",
       " 'theft': 96,\n",
       " 'bent': 97,\n",
       " 'sinama': 98,\n",
       " 'scintillating': 99,\n",
       " 'passcard': 100,\n",
       " 'brass': 101,\n",
       " 'interoperable': 102,\n",
       " 'ne': 103,\n",
       " 'teddy': 104,\n",
       " 'already': 105,\n",
       " 'paid': 106,\n",
       " 'praful': 107,\n",
       " 'needle': 108,\n",
       " 'maid': 109,\n",
       " 'tipping': 110,\n",
       " 'harmonisation': 111,\n",
       " 'outrider': 112,\n",
       " 'socially': 113,\n",
       " 'decline': 114,\n",
       " 'korzeniowski': 115,\n",
       " 'flush': 116,\n",
       " 'bourne': 117,\n",
       " 'mount': 118,\n",
       " 'vp': 119,\n",
       " 'tolerant': 120,\n",
       " 'breath': 121,\n",
       " 'shortcoming': 122,\n",
       " 'surprising': 123,\n",
       " 'narrowing': 124,\n",
       " 'overrun': 125,\n",
       " 'ahead': 126,\n",
       " 'stoppard': 127,\n",
       " 'operate': 128,\n",
       " 'youthful': 129,\n",
       " 'buxton': 130,\n",
       " 'manger': 131,\n",
       " 'gazetta': 132,\n",
       " 'recognition': 133,\n",
       " 'reluctance': 134,\n",
       " 'dow': 135,\n",
       " 'teething': 136,\n",
       " 'trailer': 137,\n",
       " 'grounding': 138,\n",
       " 'copyrighted': 139,\n",
       " 'sardinia': 140,\n",
       " 'lyric': 141,\n",
       " 'brainwashed': 142,\n",
       " 'cambridgeshire': 143,\n",
       " 'stockport': 144,\n",
       " 'artistry': 145,\n",
       " 'jonesboro': 146,\n",
       " 'web': 147,\n",
       " 'bolted': 148,\n",
       " 'fenced': 149,\n",
       " 'conrad': 150,\n",
       " 'manhunt': 151,\n",
       " 'amenabar': 152,\n",
       " 'underrated': 153,\n",
       " 'smog': 154,\n",
       " 'announcing': 155,\n",
       " 'servat': 156,\n",
       " 'minimised': 157,\n",
       " 'screaming': 158,\n",
       " 'itn': 159,\n",
       " 'irvine': 160,\n",
       " 'costantini': 161,\n",
       " 'squabbling': 162,\n",
       " 'bloke': 163,\n",
       " 'unaware': 164,\n",
       " 'abacus': 165,\n",
       " 'hesitation': 166,\n",
       " 'nebraska': 167,\n",
       " 'shortstop': 168,\n",
       " 'fatigue': 169,\n",
       " 'washington': 170,\n",
       " 'panorama': 171,\n",
       " 'bonhams': 172,\n",
       " 'tends': 173,\n",
       " 'wembley': 174,\n",
       " 'ski': 175,\n",
       " 'rico': 176,\n",
       " 'spikey': 177,\n",
       " 'aloud': 178,\n",
       " 'huizinga': 179,\n",
       " 'stop': 180,\n",
       " 'ate': 181,\n",
       " 'disengagement': 182,\n",
       " 'ines': 183,\n",
       " 'charleroi': 184,\n",
       " 'ya': 185,\n",
       " 'stereotype': 186,\n",
       " 'jeremy': 187,\n",
       " 'fuss': 188,\n",
       " 'luncheon': 189,\n",
       " 'ica': 190,\n",
       " 'constable': 191,\n",
       " 'scraped': 192,\n",
       " 'erm': 193,\n",
       " 'axed': 194,\n",
       " 'eurovision': 195,\n",
       " 'ped': 196,\n",
       " 'weepu': 197,\n",
       " 'absorbs': 198,\n",
       " 'sfx': 199,\n",
       " 'skirt': 200,\n",
       " 'repayable': 201,\n",
       " 'retrenchment': 202,\n",
       " 'renationalise': 203,\n",
       " 'hopping': 204,\n",
       " 'stewart': 205,\n",
       " 'getter': 206,\n",
       " 'fairly': 207,\n",
       " 'tootsie': 208,\n",
       " 'apache': 209,\n",
       " 'halifax': 210,\n",
       " 'exercise': 211,\n",
       " 'shrivelled': 212,\n",
       " 'overdue': 213,\n",
       " 'busted': 214,\n",
       " 'brutally': 215,\n",
       " 'cyberspace': 216,\n",
       " 'emilio': 217,\n",
       " 'lederhosen': 218,\n",
       " 'pencilled': 219,\n",
       " 'pires': 220,\n",
       " 'strengthen': 221,\n",
       " 'rfu': 222,\n",
       " 'objectivity': 223,\n",
       " 'tobago': 224,\n",
       " 'relax': 225,\n",
       " 'iranian': 226,\n",
       " 'dido': 227,\n",
       " 'condemning': 228,\n",
       " 'consulting': 229,\n",
       " 'outfit': 230,\n",
       " 'vary': 231,\n",
       " 'timeframe': 232,\n",
       " 'folder': 233,\n",
       " 'drunkard': 234,\n",
       " 'tester': 235,\n",
       " 'generally': 236,\n",
       " 'casting': 237,\n",
       " 'england': 238,\n",
       " 'roundly': 239,\n",
       " 'bejewelled': 240,\n",
       " 'savour': 241,\n",
       " 'minded': 242,\n",
       " 'alluding': 243,\n",
       " 'peacekeeping': 244,\n",
       " 'memphis': 245,\n",
       " 'bride': 246,\n",
       " 'jewellery': 247,\n",
       " 'puffed': 248,\n",
       " 'indicated': 249,\n",
       " 'blogzine': 250,\n",
       " 'lope': 251,\n",
       " 'monteith': 252,\n",
       " 'wingfield': 253,\n",
       " 'gym': 254,\n",
       " 'oxfam': 255,\n",
       " 'tire': 256,\n",
       " 'oyepitan': 257,\n",
       " 'tosin': 258,\n",
       " 'mullah': 259,\n",
       " 'thanou': 260,\n",
       " 'enforcer': 261,\n",
       " 'tailor': 262,\n",
       " 'physique': 263,\n",
       " 'determined': 264,\n",
       " 'lem': 265,\n",
       " 'corrupting': 266,\n",
       " 'bunch': 267,\n",
       " 'sprawling': 268,\n",
       " 'coarse': 269,\n",
       " 'rebound': 270,\n",
       " 'reservoir': 271,\n",
       " 'gamers': 272,\n",
       " 'tactic': 273,\n",
       " 'hardy': 274,\n",
       " 'disregarding': 275,\n",
       " 'henderson': 276,\n",
       " 'transmitted': 277,\n",
       " 'yimou': 278,\n",
       " 'slowed': 279,\n",
       " 'clouding': 280,\n",
       " 'obsessive': 281,\n",
       " 'muller': 282,\n",
       " 'evaluated': 283,\n",
       " 'livestock': 284,\n",
       " 'thay': 285,\n",
       " 'sudell': 286,\n",
       " 'footwear': 287,\n",
       " 'insensitivity': 288,\n",
       " 'hank': 289,\n",
       " 'unobtrusive': 290,\n",
       " 'derelict': 291,\n",
       " 'oc': 292,\n",
       " 'maneuver': 293,\n",
       " 'surge': 294,\n",
       " 'molecular': 295,\n",
       " 'ridicule': 296,\n",
       " 'jinked': 297,\n",
       " 'ev': 298,\n",
       " 'tarik': 299,\n",
       " 'transformed': 300,\n",
       " 'federline': 301,\n",
       " 'regenerate': 302,\n",
       " 'imbruglia': 303,\n",
       " 'worthington': 304,\n",
       " 'annum': 305,\n",
       " 'spelling': 306,\n",
       " 'upset': 307,\n",
       " 'sierra': 308,\n",
       " 'upstage': 309,\n",
       " 'daley': 310,\n",
       " 'prevented': 311,\n",
       " 'sprinter': 312,\n",
       " 'ferrovial': 313,\n",
       " 'monde': 314,\n",
       " 'quittenton': 315,\n",
       " 'oftel': 316,\n",
       " 'saminejad': 317,\n",
       " 'scooby': 318,\n",
       " 'inadequate': 319,\n",
       " 'bestseller': 320,\n",
       " 'investigated': 321,\n",
       " 'veer': 322,\n",
       " 'upswing': 323,\n",
       " 'plant': 324,\n",
       " 'monopolise': 325,\n",
       " 'emption': 326,\n",
       " 'fashioned': 327,\n",
       " 'ubiquity': 328,\n",
       " 'repetitive': 329,\n",
       " 'swamp': 330,\n",
       " 'shrug': 331,\n",
       " 'musician': 332,\n",
       " 'tatter': 333,\n",
       " 'rutto': 334,\n",
       " 'louis': 335,\n",
       " 'aeg': 336,\n",
       " 'beckons': 337,\n",
       " 'hug': 338,\n",
       " 'ill': 339,\n",
       " 'skull': 340,\n",
       " 'trafford': 341,\n",
       " 'ames': 342,\n",
       " 'plymouth': 343,\n",
       " 'payer': 344,\n",
       " 'nowadays': 345,\n",
       " 'digital': 346,\n",
       " 'fabric': 347,\n",
       " 'reassured': 348,\n",
       " 'bellamy': 349,\n",
       " 'shinobu': 350,\n",
       " 'escapism': 351,\n",
       " 'ion': 352,\n",
       " 'roundabout': 353,\n",
       " 'chambre': 354,\n",
       " 'area': 355,\n",
       " 'easy': 356,\n",
       " 'brick': 357,\n",
       " 'outmoded': 358,\n",
       " 'sentenced': 359,\n",
       " 'wernle': 360,\n",
       " 'ahold': 361,\n",
       " 'rebuts': 362,\n",
       " 'invisible': 363,\n",
       " 'planner': 364,\n",
       " 'enhancement': 365,\n",
       " 'hydration': 366,\n",
       " 'stared': 367,\n",
       " 'failure': 368,\n",
       " 'rhian': 369,\n",
       " 'translating': 370,\n",
       " 'disruptive': 371,\n",
       " 'indignity': 372,\n",
       " 'family': 373,\n",
       " 'ngom': 374,\n",
       " 'cannibal': 375,\n",
       " 'hunted': 376,\n",
       " 'thailand': 377,\n",
       " 'elfyn': 378,\n",
       " 'reorganisation': 379,\n",
       " 'quitting': 380,\n",
       " 'river': 381,\n",
       " 'wigglesworth': 382,\n",
       " 'insistence': 383,\n",
       " 'yearning': 384,\n",
       " 'volatility': 385,\n",
       " 'maximisation': 386,\n",
       " 'colombia': 387,\n",
       " 'intention': 388,\n",
       " 'alan': 389,\n",
       " 'barnett': 390,\n",
       " 'mule': 391,\n",
       " 'rocco': 392,\n",
       " 'furniture': 393,\n",
       " 'box': 394,\n",
       " 'repairing': 395,\n",
       " 'fronted': 396,\n",
       " 'yorker': 397,\n",
       " 'eavis': 398,\n",
       " 'cyprus': 399,\n",
       " 'roadmap': 400,\n",
       " 'persona': 401,\n",
       " 'farrell': 402,\n",
       " 'bo': 403,\n",
       " 'ignored': 404,\n",
       " 'indicative': 405,\n",
       " 'patsy': 406,\n",
       " 'goodwin': 407,\n",
       " 'pink': 408,\n",
       " 'daxter': 409,\n",
       " 'outlaw': 410,\n",
       " 'nellie': 411,\n",
       " 'truce': 412,\n",
       " 'springing': 413,\n",
       " 'reinstatement': 414,\n",
       " 'carrow': 415,\n",
       " 'ann': 416,\n",
       " 'dlp': 417,\n",
       " 'detain': 418,\n",
       " 'palm': 419,\n",
       " 'casually': 420,\n",
       " 'cincinnati': 421,\n",
       " 'mercer': 422,\n",
       " 'biometric': 423,\n",
       " 'cheese': 424,\n",
       " 'intimidatory': 425,\n",
       " 'oster': 426,\n",
       " 'loch': 427,\n",
       " 'pharrell': 428,\n",
       " 'runway': 429,\n",
       " 'db': 430,\n",
       " 'jeremie': 431,\n",
       " 'col': 432,\n",
       " 'aries': 433,\n",
       " 'knew': 434,\n",
       " 'prescription': 435,\n",
       " 'belgrano': 436,\n",
       " 'tore': 437,\n",
       " 'remarkably': 438,\n",
       " 'dulled': 439,\n",
       " 'hockney': 440,\n",
       " 'understated': 441,\n",
       " 'evacuate': 442,\n",
       " 'julian': 443,\n",
       " 'dragoon': 444,\n",
       " 'paranoid': 445,\n",
       " 'ligament': 446,\n",
       " 'blurry': 447,\n",
       " 'athletics': 448,\n",
       " 'value': 449,\n",
       " 'icon': 450,\n",
       " 'yantai': 451,\n",
       " 'swagger': 452,\n",
       " 'distinguish': 453,\n",
       " 'sanguine': 454,\n",
       " 'challenge': 455,\n",
       " 'cooker': 456,\n",
       " 'ljungberg': 457,\n",
       " 'oldman': 458,\n",
       " 'concealing': 459,\n",
       " 'anecdotal': 460,\n",
       " 'young': 461,\n",
       " 'advancement': 462,\n",
       " 'unawares': 463,\n",
       " 'traded': 464,\n",
       " 'hansen': 465,\n",
       " 'anticipated': 466,\n",
       " 'paparazzo': 467,\n",
       " 'aceh': 468,\n",
       " 'nascent': 469,\n",
       " 'levy': 470,\n",
       " 'gold': 471,\n",
       " 'yoda': 472,\n",
       " 'victoria': 473,\n",
       " 'purlie': 474,\n",
       " 'mungo': 475,\n",
       " 'cherish': 476,\n",
       " 'lunch': 477,\n",
       " 'drown': 478,\n",
       " 'cvrd': 479,\n",
       " 'imperial': 480,\n",
       " 'carefully': 481,\n",
       " 'throttle': 482,\n",
       " 'agility': 483,\n",
       " 'rebecca': 484,\n",
       " 'embattled': 485,\n",
       " 'declan': 486,\n",
       " 'belafonte': 487,\n",
       " 'headache': 488,\n",
       " 'courthouse': 489,\n",
       " 'surrendering': 490,\n",
       " 'blunkett': 491,\n",
       " 'timeless': 492,\n",
       " 'genocide': 493,\n",
       " 'breyer': 494,\n",
       " 'prosecution': 495,\n",
       " 'welling': 496,\n",
       " 'amazon': 497,\n",
       " 'blasting': 498,\n",
       " 'guessed': 499,\n",
       " 'seems': 500,\n",
       " 'baffled': 501,\n",
       " 'palancas': 502,\n",
       " 'ticketing': 503,\n",
       " 'regretted': 504,\n",
       " 'sickout': 505,\n",
       " 'dissipated': 506,\n",
       " 'kwon': 507,\n",
       " 'shoo': 508,\n",
       " 'gail': 509,\n",
       " 'risse': 510,\n",
       " 'varley': 511,\n",
       " 'retaliatory': 512,\n",
       " 'lower': 513,\n",
       " 'boerse': 514,\n",
       " 'sentence': 515,\n",
       " 'taylor': 516,\n",
       " 'drunkenness': 517,\n",
       " 'cleverly': 518,\n",
       " 'armand': 519,\n",
       " 'flower': 520,\n",
       " 'blemish': 521,\n",
       " 'sleep': 522,\n",
       " 'damaging': 523,\n",
       " 'ba': 524,\n",
       " 'confiscatory': 525,\n",
       " 'overreact': 526,\n",
       " 'selecting': 527,\n",
       " 'calculator': 528,\n",
       " 'maligned': 529,\n",
       " 'jayne': 530,\n",
       " 'veritas': 531,\n",
       " 'kent': 532,\n",
       " 'racked': 533,\n",
       " 'rag': 534,\n",
       " 'locally': 535,\n",
       " 'resorted': 536,\n",
       " 'colourblind': 537,\n",
       " 'wilbur': 538,\n",
       " 'skate': 539,\n",
       " 'islamophobia': 540,\n",
       " 'buries': 541,\n",
       " 'landscape': 542,\n",
       " 'congratulation': 543,\n",
       " 'rhys': 544,\n",
       " 'tana': 545,\n",
       " 'targetted': 546,\n",
       " 'hardware': 547,\n",
       " 'custom': 548,\n",
       " 'unhappy': 549,\n",
       " 'wished': 550,\n",
       " 'egm': 551,\n",
       " 'bandwidth': 552,\n",
       " 'cabin': 553,\n",
       " 'brightly': 554,\n",
       " 'arbitration': 555,\n",
       " 'heck': 556,\n",
       " 'magnenat': 557,\n",
       " 'robbies': 558,\n",
       " 'reputable': 559,\n",
       " 'pricier': 560,\n",
       " 'hoagy': 561,\n",
       " 'bilateral': 562,\n",
       " 'skinner': 563,\n",
       " 'drowning': 564,\n",
       " 'commenee': 565,\n",
       " 'extraction': 566,\n",
       " 'bodied': 567,\n",
       " 'miracle': 568,\n",
       " 'birgit': 569,\n",
       " 'rumbled': 570,\n",
       " 'bewildering': 571,\n",
       " 'scoggins': 572,\n",
       " 'faye': 573,\n",
       " 'cagigal': 574,\n",
       " 'powering': 575,\n",
       " 'intimately': 576,\n",
       " 'additive': 577,\n",
       " 'grid': 578,\n",
       " 'flakier': 579,\n",
       " 'weighted': 580,\n",
       " 'tour': 581,\n",
       " 'stung': 582,\n",
       " 'gillespie': 583,\n",
       " 'aire': 584,\n",
       " 'reinstate': 585,\n",
       " 'hundred': 586,\n",
       " 'bisexuality': 587,\n",
       " 'embracing': 588,\n",
       " 'deport': 589,\n",
       " 'size': 590,\n",
       " 'mouth': 591,\n",
       " 'guise': 592,\n",
       " 'chatter': 593,\n",
       " 'palace': 594,\n",
       " 'yamaha': 595,\n",
       " 'rohit': 596,\n",
       " 'nog': 597,\n",
       " 'duly': 598,\n",
       " 'nasdaq': 599,\n",
       " 'betty': 600,\n",
       " 'centralisation': 601,\n",
       " 'raoul': 602,\n",
       " 'leveaux': 603,\n",
       " 'scarcely': 604,\n",
       " 'ofcom': 605,\n",
       " 'pay': 606,\n",
       " 'pressing': 607,\n",
       " 'harmed': 608,\n",
       " 'creditor': 609,\n",
       " 'retain': 610,\n",
       " 'manly': 611,\n",
       " 'eyesight': 612,\n",
       " 'bromwich': 613,\n",
       " 'bracing': 614,\n",
       " 'reyes': 615,\n",
       " 'peeled': 616,\n",
       " 'baggins': 617,\n",
       " 'strategist': 618,\n",
       " 'wanadoo': 619,\n",
       " 'neglect': 620,\n",
       " 'cisse': 621,\n",
       " 'albania': 622,\n",
       " 'resurgent': 623,\n",
       " 'flagging': 624,\n",
       " 'restlessness': 625,\n",
       " 'iniquity': 626,\n",
       " 'spain': 627,\n",
       " 'valid': 628,\n",
       " 'time': 629,\n",
       " 'eviction': 630,\n",
       " 'impartial': 631,\n",
       " 'conferring': 632,\n",
       " 'bozell': 633,\n",
       " 'sally': 634,\n",
       " 'propelled': 635,\n",
       " 'charitable': 636,\n",
       " 'subscribes': 637,\n",
       " 'misconception': 638,\n",
       " 'helm': 639,\n",
       " 'ushered': 640,\n",
       " 'gcse': 641,\n",
       " 'collaboratively': 642,\n",
       " 'tendered': 643,\n",
       " 'ispa': 644,\n",
       " 'robbed': 645,\n",
       " 'grauman': 646,\n",
       " 'election': 647,\n",
       " 'veil': 648,\n",
       " 'cigala': 649,\n",
       " 'showcased': 650,\n",
       " 'pioneered': 651,\n",
       " 'pilot': 652,\n",
       " 'realising': 653,\n",
       " 'doherty': 654,\n",
       " 'recount': 655,\n",
       " 'boks': 656,\n",
       " 'turkcell': 657,\n",
       " 'jeffrey': 658,\n",
       " 'phau': 659,\n",
       " 'prodding': 660,\n",
       " 'formulated': 661,\n",
       " 'openside': 662,\n",
       " 'xuebing': 663,\n",
       " 'authorship': 664,\n",
       " 'wraz': 665,\n",
       " 'downlights': 666,\n",
       " 'cybercriminals': 667,\n",
       " 'harnessed': 668,\n",
       " 'victorian': 669,\n",
       " 'approximation': 670,\n",
       " 'diallers': 671,\n",
       " 'pam': 672,\n",
       " 'zubair': 673,\n",
       " 'mention': 674,\n",
       " 'blank': 675,\n",
       " 'lagging': 676,\n",
       " 'sherlock': 677,\n",
       " 'tuff': 678,\n",
       " 'medallist': 679,\n",
       " 'serialised': 680,\n",
       " 'shooting': 681,\n",
       " 'wrist': 682,\n",
       " 'kilbane': 683,\n",
       " 'institutional': 684,\n",
       " 'fife': 685,\n",
       " 'bafin': 686,\n",
       " 'candidly': 687,\n",
       " 'watched': 688,\n",
       " 'grandmother': 689,\n",
       " 'ruptured': 690,\n",
       " 'toughest': 691,\n",
       " 'tree': 692,\n",
       " 'fabian': 693,\n",
       " 'depiction': 694,\n",
       " 'patented': 695,\n",
       " 'faulty': 696,\n",
       " 'cruyff': 697,\n",
       " 'outbreak': 698,\n",
       " 'waning': 699,\n",
       " 'blackbuck': 700,\n",
       " 'stemmed': 701,\n",
       " 'fundamentalist': 702,\n",
       " 'depository': 703,\n",
       " 'lesbianism': 704,\n",
       " 'horseback': 705,\n",
       " 'correction': 706,\n",
       " 'roti': 707,\n",
       " 'oasis': 708,\n",
       " 'unassailable': 709,\n",
       " 'mandelson': 710,\n",
       " 'demanded': 711,\n",
       " 'amicable': 712,\n",
       " 'threaten': 713,\n",
       " 'flipstart': 714,\n",
       " 'espanyol': 715,\n",
       " 'rat': 716,\n",
       " 'eastward': 717,\n",
       " 'interfered': 718,\n",
       " 'infant': 719,\n",
       " 'ravi': 720,\n",
       " 'wandered': 721,\n",
       " 'northeast': 722,\n",
       " 'wealth': 723,\n",
       " 'opus': 724,\n",
       " 'norvasc': 725,\n",
       " 'plaisir': 726,\n",
       " 'technician': 727,\n",
       " 'chassis': 728,\n",
       " 'fu': 729,\n",
       " 'nursing': 730,\n",
       " 'ali': 731,\n",
       " 'descendant': 732,\n",
       " 'docklands': 733,\n",
       " 'defended': 734,\n",
       " 'zonealarm': 735,\n",
       " 'godel': 736,\n",
       " 'greenwood': 737,\n",
       " 'price': 738,\n",
       " 'commemoration': 739,\n",
       " 'unusual': 740,\n",
       " 'bromby': 741,\n",
       " 'big': 742,\n",
       " 'wrangling': 743,\n",
       " 'ambo': 744,\n",
       " 'antitrust': 745,\n",
       " 'bookie': 746,\n",
       " 'swashbuckling': 747,\n",
       " 'iran': 748,\n",
       " 'appetite': 749,\n",
       " 'restore': 750,\n",
       " 'conventional': 751,\n",
       " 'sleigh': 752,\n",
       " 'growing': 753,\n",
       " 'willingness': 754,\n",
       " 'bergkamp': 755,\n",
       " 'rashly': 756,\n",
       " 'schneider': 757,\n",
       " 'speech': 758,\n",
       " 'developmental': 759,\n",
       " 'page': 760,\n",
       " 'warrant': 761,\n",
       " 'twitched': 762,\n",
       " 'ecofin': 763,\n",
       " 'eucalyptus': 764,\n",
       " 'rimmer': 765,\n",
       " 'invasive': 766,\n",
       " 'schiffer': 767,\n",
       " 'complaint': 768,\n",
       " 'populist': 769,\n",
       " 'environment': 770,\n",
       " 'gil': 771,\n",
       " 'iveta': 772,\n",
       " 'imagine': 773,\n",
       " 'thou': 774,\n",
       " 'disappointment': 775,\n",
       " 'sparingly': 776,\n",
       " 'annulled': 777,\n",
       " 'notoriety': 778,\n",
       " 'contraception': 779,\n",
       " 'planemaker': 780,\n",
       " 'escalated': 781,\n",
       " 'framing': 782,\n",
       " 'betraying': 783,\n",
       " 'itx': 784,\n",
       " 'chronic': 785,\n",
       " 'conductor': 786,\n",
       " 'another': 787,\n",
       " 'marketer': 788,\n",
       " 'maseru': 789,\n",
       " 'trustee': 790,\n",
       " 'troupe': 791,\n",
       " 'destroyed': 792,\n",
       " 'remortgaged': 793,\n",
       " 'spare': 794,\n",
       " 'expressing': 795,\n",
       " 'legitimise': 796,\n",
       " 'fate': 797,\n",
       " 'fingerprinting': 798,\n",
       " 'songbook': 799,\n",
       " 'erin': 800,\n",
       " 'cert': 801,\n",
       " 'chancay': 802,\n",
       " 'entrance': 803,\n",
       " 'feta': 804,\n",
       " 'scholl': 805,\n",
       " 'viard': 806,\n",
       " 'bark': 807,\n",
       " 'goodwill': 808,\n",
       " 'norm': 809,\n",
       " 'fresco': 810,\n",
       " 'installs': 811,\n",
       " 'newey': 812,\n",
       " 'comfortable': 813,\n",
       " 'croucher': 814,\n",
       " 'quad': 815,\n",
       " 'vacate': 816,\n",
       " 'harbouring': 817,\n",
       " 'lick': 818,\n",
       " 'johansson': 819,\n",
       " 'spoil': 820,\n",
       " 'defeatism': 821,\n",
       " 'monetary': 822,\n",
       " 'gershon': 823,\n",
       " 'slum': 824,\n",
       " 'function': 825,\n",
       " 'blaisdon': 826,\n",
       " 'credential': 827,\n",
       " 'benoit': 828,\n",
       " 'application': 829,\n",
       " 'gara': 830,\n",
       " 'distort': 831,\n",
       " 'pulsating': 832,\n",
       " 'independent': 833,\n",
       " 'maverick': 834,\n",
       " 'changi': 835,\n",
       " 'eligible': 836,\n",
       " 'fender': 837,\n",
       " 'geographically': 838,\n",
       " 'ph': 839,\n",
       " 'starship': 840,\n",
       " 'lure': 841,\n",
       " 'numerically': 842,\n",
       " 'frothy': 843,\n",
       " 'symbol': 844,\n",
       " 'nemesis': 845,\n",
       " 'madden': 846,\n",
       " 'qatargas': 847,\n",
       " 'ballooning': 848,\n",
       " 'racketeer': 849,\n",
       " 'einar': 850,\n",
       " 'jef': 851,\n",
       " 'sided': 852,\n",
       " 'videoing': 853,\n",
       " 'katherine': 854,\n",
       " 'full': 855,\n",
       " 'despatched': 856,\n",
       " 'blasphemy': 857,\n",
       " 'intermediary': 858,\n",
       " 'worth': 859,\n",
       " 'stimpson': 860,\n",
       " 'hive': 861,\n",
       " 'hype': 862,\n",
       " 'angelina': 863,\n",
       " 'intensified': 864,\n",
       " 'eyeball': 865,\n",
       " 'cheetham': 866,\n",
       " 'inform': 867,\n",
       " 'credited': 868,\n",
       " 'communicating': 869,\n",
       " 'wow': 870,\n",
       " 'wise': 871,\n",
       " 'electron': 872,\n",
       " 'schoolteacher': 873,\n",
       " 'witherspoon': 874,\n",
       " 'drury': 875,\n",
       " 'coolly': 876,\n",
       " 'lundgren': 877,\n",
       " 'coruna': 878,\n",
       " 'analogue': 879,\n",
       " 'listens': 880,\n",
       " 'vonage': 881,\n",
       " 'fockers': 882,\n",
       " 'chanting': 883,\n",
       " 'marcoussis': 884,\n",
       " 'kitted': 885,\n",
       " 'franck': 886,\n",
       " 'beringer': 887,\n",
       " 'explosive': 888,\n",
       " 'jonny': 889,\n",
       " 'forget': 890,\n",
       " 'commissioner': 891,\n",
       " 'wonkette': 892,\n",
       " 'operatic': 893,\n",
       " 'encarta': 894,\n",
       " 'speculation': 895,\n",
       " 'outraged': 896,\n",
       " 'debuted': 897,\n",
       " 'blackberry': 898,\n",
       " 'mukherjee': 899,\n",
       " 'fowler': 900,\n",
       " 'bargain': 901,\n",
       " 'shoulder': 902,\n",
       " 'primetime': 903,\n",
       " 'resilience': 904,\n",
       " 'unconscionable': 905,\n",
       " 'sophisticated': 906,\n",
       " 'emergence': 907,\n",
       " 'upstart': 908,\n",
       " 'strategically': 909,\n",
       " 'successfully': 910,\n",
       " 'exporting': 911,\n",
       " 'sable': 912,\n",
       " 'radley': 913,\n",
       " 'afro': 914,\n",
       " 'stravinsky': 915,\n",
       " 'east': 916,\n",
       " 'cloud': 917,\n",
       " 'purchaser': 918,\n",
       " 'relevant': 919,\n",
       " 'arkansas': 920,\n",
       " 'extension': 921,\n",
       " 'narrowband': 922,\n",
       " 'powell': 923,\n",
       " 'suggesting': 924,\n",
       " 'without': 925,\n",
       " 'nippon': 926,\n",
       " 'erroneous': 927,\n",
       " 'erik': 928,\n",
       " 'shihab': 929,\n",
       " 'enabled': 930,\n",
       " 'mandarin': 931,\n",
       " 'bush': 932,\n",
       " 'rub': 933,\n",
       " 'repurchase': 934,\n",
       " 'inauthentic': 935,\n",
       " 'sprung': 936,\n",
       " 'idol': 937,\n",
       " 'solent': 938,\n",
       " 'mdr': 939,\n",
       " 'assure': 940,\n",
       " 'coastal': 941,\n",
       " 'key': 942,\n",
       " 'tryscorers': 943,\n",
       " 'innumeracy': 944,\n",
       " 'tight': 945,\n",
       " 'bac': 946,\n",
       " 'paolo': 947,\n",
       " 'instruction': 948,\n",
       " 'imposes': 949,\n",
       " 'exposition': 950,\n",
       " 'deceleration': 951,\n",
       " 'mickey': 952,\n",
       " 'viewed': 953,\n",
       " 'listened': 954,\n",
       " 'aquarius': 955,\n",
       " 'azkaban': 956,\n",
       " 'russian': 957,\n",
       " 'every': 958,\n",
       " 'epson': 959,\n",
       " 'larsson': 960,\n",
       " 'reasserted': 961,\n",
       " 'miscellaneous': 962,\n",
       " 'tapped': 963,\n",
       " 'counterbalancing': 964,\n",
       " 'known': 965,\n",
       " 'restrain': 966,\n",
       " 'compressing': 967,\n",
       " 'partnering': 968,\n",
       " 'achievement': 969,\n",
       " 'carriage': 970,\n",
       " 'bailiff': 971,\n",
       " 'whistling': 972,\n",
       " 'reintroduce': 973,\n",
       " 'fang': 974,\n",
       " 'tit': 975,\n",
       " 'unscrupulous': 976,\n",
       " 'monaco': 977,\n",
       " 'capt': 978,\n",
       " 'pretty': 979,\n",
       " 'deliberate': 980,\n",
       " 'amusement': 981,\n",
       " 'rennard': 982,\n",
       " 'abusive': 983,\n",
       " 'memoir': 984,\n",
       " 'blogger': 985,\n",
       " 'duration': 986,\n",
       " 'grosjean': 987,\n",
       " 'resentment': 988,\n",
       " 'boogeyman': 989,\n",
       " 'zuluaga': 990,\n",
       " 'lip': 991,\n",
       " 'mitt': 992,\n",
       " 'grieving': 993,\n",
       " 'wilt': 994,\n",
       " 'maryland': 995,\n",
       " 'brownsville': 996,\n",
       " 'joachim': 997,\n",
       " 'sincerely': 998,\n",
       " 'mould': 999,\n",
       " ...}"
      ]
     },
     "execution_count": 18,
     "metadata": {},
     "output_type": "execute_result"
    }
   ],
   "source": [
    "boc_model.word2idx"
   ]
  },
  {
   "cell_type": "code",
   "execution_count": 17,
   "metadata": {},
   "outputs": [
    {
     "data": {
      "text/plain": [
       "array([[0.33382097, 0.        , 0.02898754, 0.        , 0.        ,\n",
       "        0.        , 0.        , 0.        , 0.        , 0.        ,\n",
       "        0.        , 0.        , 0.        , 0.        , 0.        ,\n",
       "        0.05107849, 0.        , 0.        , 0.08515781, 0.        ]])"
      ]
     },
     "execution_count": 17,
     "metadata": {},
     "output_type": "execute_result"
    }
   ],
   "source": [
    "document = \"Hello. This document great football players and sports.\"\n",
    "boc_model.encode(document).toarray() # type: ignore"
   ]
  },
  {
   "cell_type": "code",
   "execution_count": 18,
   "metadata": {},
   "outputs": [
    {
     "data": {
      "text/plain": [
       "'Indie Rock Songs'"
      ]
     },
     "execution_count": 18,
     "metadata": {},
     "output_type": "execute_result"
    }
   ],
   "source": [
    "boc_model.get_concept_label(2)"
   ]
  },
  {
   "cell_type": "markdown",
   "metadata": {},
   "source": [
    "### Shap values"
   ]
  },
  {
   "cell_type": "code",
   "execution_count": 19,
   "metadata": {},
   "outputs": [],
   "source": [
    "X_train = np.array(boc_matrix.toarray())\n",
    "y_train = np.array(y_train)\n",
    "\n",
    "X_test = [boc_model.encode(doc).toarray() for doc in docs_test]\n",
    "X_test = np.array(X_test).squeeze(1)\n",
    "y_test = np.array(y_test)\n",
    "# We already have y_train and y_test"
   ]
  },
  {
   "cell_type": "code",
   "execution_count": 20,
   "metadata": {},
   "outputs": [
    {
     "data": {
      "text/plain": [
       "((1225, 20), (1225,), (1000, 20), (1000,))"
      ]
     },
     "execution_count": 20,
     "metadata": {},
     "output_type": "execute_result"
    }
   ],
   "source": [
    "X_train.shape, y_train.shape, X_test.shape, y_test.shape"
   ]
  },
  {
   "cell_type": "code",
   "execution_count": 21,
   "metadata": {},
   "outputs": [
    {
     "name": "stdout",
     "output_type": "stream",
     "text": [
      "Logistic Regression\n",
      "\tAccuracy: 0.92 \n",
      "\tPrecision: 0.9194124964764308 \n",
      "\tRecall: 0.9175068196085145 \n",
      "\tF1 Score: 0.9179880828062812\n",
      "Random Forest\n",
      "\tAccuracy: 0.951 \n",
      "\tPrecision: 0.9509260223253836 \n",
      "\tRecall: 0.9501784919412037 \n",
      "\tF1 Score: 0.9503910393189342\n"
     ]
    }
   ],
   "source": [
    "from sklearn.linear_model import LogisticRegression\n",
    "from sklearn.ensemble import RandomForestClassifier\n",
    "from sklearn.metrics import accuracy_score, precision_score, recall_score, f1_score\n",
    "\n",
    "# Function to calculate metrics\n",
    "def calculate_metrics(y_true, y_pred):\n",
    "    precision = precision_score(y_true, y_pred, average='macro')\n",
    "    recall = recall_score(y_true, y_pred, average='macro')\n",
    "    f1 = f1_score(y_true, y_pred, average='macro')\n",
    "    return precision, recall, f1\n",
    "\n",
    "# Logistic Regression\n",
    "log_reg = LogisticRegression(max_iter=1000)\n",
    "log_reg.fit(X_train, y_train)\n",
    "y_pred = log_reg.predict(X_test)\n",
    "precision, recall, f1 = calculate_metrics(y_test, y_pred)\n",
    "print(\"Logistic Regression\\n\\tAccuracy:\", accuracy_score(y_test, y_pred), \"\\n\\tPrecision:\", precision, \"\\n\\tRecall:\", recall, \"\\n\\tF1 Score:\", f1)\n",
    "\n",
    "# Random Forest\n",
    "random_forest = RandomForestClassifier()\n",
    "random_forest.fit(X_train, y_train)\n",
    "y_pred = random_forest.predict(X_test)\n",
    "precision, recall, f1 = calculate_metrics(y_test, y_pred)\n",
    "print(\"Random Forest\\n\\tAccuracy:\", accuracy_score(y_test, y_pred), \"\\n\\tPrecision:\", precision, \"\\n\\tRecall:\", recall, \"\\n\\tF1 Score:\", f1)"
   ]
  },
  {
   "cell_type": "code",
   "execution_count": 22,
   "metadata": {},
   "outputs": [],
   "source": [
    "import shap"
   ]
  },
  {
   "cell_type": "markdown",
   "metadata": {},
   "source": [
    "### Explain Logistic Regression"
   ]
  },
  {
   "cell_type": "code",
   "execution_count": 23,
   "metadata": {},
   "outputs": [
    {
     "data": {
      "image/png": "[encoded data removed]",
      "text/plain": [
       "<Figure size 800x550 with 1 Axes>"
      ]
     },
     "metadata": {},
     "output_type": "display_data"
    }
   ],
   "source": [
    "explainer = shap.LinearExplainer(log_reg, X_train)\n",
    "shap_values = explainer.shap_values(X_test)\n",
    "shap.summary_plot(shap_values, X_test, feature_names=boc_model.get_concept_label(), max_display=10)"
   ]
  },
  {
   "cell_type": "code",
   "execution_count": 24,
   "metadata": {},
   "outputs": [
    {
     "data": {
      "image/png": "[encoded data removed]",
      "text/plain": [
       "<Figure size 800x550 with 2 Axes>"
      ]
     },
     "metadata": {},
     "output_type": "display_data"
    }
   ],
   "source": [
    "shap.summary_plot(shap_values[0], X_test, feature_names=boc_model.get_concept_label(), max_display=10)"
   ]
  },
  {
   "cell_type": "markdown",
   "metadata": {},
   "source": [
    "### Explain Random Forest classifier"
   ]
  },
  {
   "cell_type": "code",
   "execution_count": 25,
   "metadata": {},
   "outputs": [
    {
     "data": {
      "image/png": "[encoded data removed]",
      "text/plain": [
       "<Figure size 800x550 with 1 Axes>"
      ]
     },
     "metadata": {},
     "output_type": "display_data"
    }
   ],
   "source": [
    "explainer = shap.TreeExplainer(random_forest)\n",
    "shap_values = explainer.shap_values(X_test)\n",
    "shap.summary_plot(shap_values, X_test, feature_names=boc_model.get_concept_label(), max_display=10)"
   ]
  },
  {
   "cell_type": "code",
   "execution_count": 26,
   "metadata": {},
   "outputs": [
    {
     "data": {
      "image/png": "[encoded data removed]",
      "text/plain": [
       "<Figure size 800x550 with 2 Axes>"
      ]
     },
     "metadata": {},
     "output_type": "display_data"
    }
   ],
   "source": [
    "shap.summary_plot(shap_values[0], X_test, feature_names=boc_model.get_concept_label(), max_display=10)"
   ]
  }
 ],
 "metadata": {
  "kernelspec": {
   "display_name": ".venv",
   "language": "python",
   "name": "python3"
  },
  "language_info": {
   "codemirror_mode": {
    "name": "ipython",
    "version": 3
   },
   "file_extension": ".py",
   "mimetype": "text/x-python",
   "name": "python",
   "nbconvert_exporter": "python",
   "pygments_lexer": "ipython3",
   "version": "3.11.9"
  }
 },
 "nbformat": 4,
 "nbformat_minor": 2
}
